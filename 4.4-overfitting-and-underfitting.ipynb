{
 "cells": [
  {
   "cell_type": "code",
   "execution_count": 1,
   "metadata": {},
   "outputs": [
    {
     "name": "stderr",
     "output_type": "stream",
     "text": [
      "Using TensorFlow backend.\n"
     ]
    },
    {
     "data": {
      "text/plain": [
       "'2.2.4'"
      ]
     },
     "execution_count": 1,
     "metadata": {},
     "output_type": "execute_result"
    }
   ],
   "source": [
    "import keras\n",
    "keras.__version__"
   ]
  },
  {
   "cell_type": "markdown",
   "metadata": {},
   "source": [
    "# Overfitting and underfitting\n",
    "\n",
    "This notebook contains the code samples found in Chapter 3, Section 6 of [Deep Learning with Python](https://www.manning.com/books/deep-learning-with-python?a_aid=keras&a_bid=76564dff). Note that the original text features far more content, in particular further explanations and figures: in this notebook, you will only find source code and related comments.\n",
    "\n",
    "----\n",
    "\n",
    "\n",
    "In all the examples we saw in the previous chapter -- movie review sentiment prediction, topic classification, and house price regression -- \n",
    "we could notice that the performance of our model on the held-out validation data would always peak after a few epochs and would then start \n",
    "degrading, i.e. our model would quickly start to _overfit_ to the training data. Overfitting happens in every single machine learning \n",
    "problem. Learning how to deal with overfitting is essential to mastering machine learning.\n",
    "\n",
    "The fundamental issue in machine learning is the tension between optimization and generalization. \"Optimization\" refers to the process of \n",
    "adjusting a model to get the best performance possible on the training data (the \"learning\" in \"machine learning\"), while \"generalization\" \n",
    "refers to how well the trained model would perform on data it has never seen before. The goal of the game is to get good generalization, of \n",
    "course, but you do not control generalization; you can only adjust the model based on its training data.\n",
    "\n",
    "At the beginning of training, optimization and generalization are correlated: the lower your loss on training data, the lower your loss on \n",
    "test data. While this is happening, your model is said to be _under-fit_: there is still progress to be made; the network hasn't yet \n",
    "modeled all relevant patterns in the training data. But after a certain number of iterations on the training data, generalization stops \n",
    "improving, validation metrics stall then start degrading: the model is then starting to over-fit, i.e. is it starting to learn patterns \n",
    "that are specific to the training data but that are misleading or irrelevant when it comes to new data.\n",
    "\n",
    "To prevent a model from learning misleading or irrelevant patterns found in the training data, _the best solution is of course to get \n",
    "more training data_. A model trained on more data will naturally generalize better. When that is no longer possible, the next best solution \n",
    "is to modulate the quantity of information that your model is allowed to store, or to add constraints on what information it is allowed to \n",
    "store. If a network can only afford to memorize a small number of patterns, the optimization process will force it to focus on the most \n",
    "prominent patterns, which have a better chance of generalizing well.\n",
    "\n",
    "The processing of fighting overfitting in this way is called _regularization_. Let's review some of the most common regularization \n",
    "techniques, and let's apply them in practice to improve our movie classification model from  the previous chapter."
   ]
  },
  {
   "cell_type": "markdown",
   "metadata": {},
   "source": [
    "Note: in this notebook we will be using the IMDB test set as our validation set. It doesn't matter in this context.\n",
    "\n",
    "Let's prepare the data using the code from Chapter 3, Section 5:"
   ]
  },
  {
   "cell_type": "code",
   "execution_count": 2,
   "metadata": {},
   "outputs": [],
   "source": [
    "from keras.datasets import imdb\n",
    "import numpy as np\n",
    "# save np.load\n",
    "np_load_old = np.load\n",
    "\n",
    "# modify the default parameters of np.load\n",
    "np.load = lambda *a,**k: np_load_old(*a, allow_pickle=True, **k)\n",
    "\n",
    "from keras.datasets import imdb\n",
    "(train_data, train_labels), (test_data, test_labels) = imdb.load_data(num_words=10000)\n",
    "\n",
    "# restore np.load for future normal usage\n",
    "np.load = np_load_old\n",
    "\n",
    "def vectorize_sequences(sequences, dimension=10000):\n",
    "    # Create an all-zero matrix of shape (len(sequences), dimension)\n",
    "    results = np.zeros((len(sequences), dimension))\n",
    "    for i, sequence in enumerate(sequences):\n",
    "        results[i, sequence] = 1.  # set specific indices of results[i] to 1s\n",
    "    return results\n",
    "\n",
    "# Our vectorized training data\n",
    "x_train = vectorize_sequences(train_data)\n",
    "# Our vectorized test data\n",
    "x_test = vectorize_sequences(test_data)\n",
    "# Our vectorized labels\n",
    "y_train = np.asarray(train_labels).astype('float32')\n",
    "y_test = np.asarray(test_labels).astype('float32')"
   ]
  },
  {
   "cell_type": "markdown",
   "metadata": {},
   "source": [
    "# Fighting overfitting\n",
    "\n",
    "## Reducing the network's size\n",
    "\n",
    "\n",
    "The simplest way to prevent overfitting is to reduce the size of the model, i.e. the number of learnable parameters in the model (which is \n",
    "determined by the number of layers and the number of units per layer). In deep learning, the number of learnable parameters in a model is \n",
    "often referred to as the model's \"capacity\". Intuitively, a model with more parameters will have more \"memorization capacity\" and therefore \n",
    "will be able to easily learn a perfect dictionary-like mapping between training samples and their targets, a mapping without any \n",
    "generalization power. For instance, a model with 500,000 binary parameters could easily be made to learn the class of every digits in the \n",
    "MNIST training set: we would only need 10 binary parameters for each of the 50,000 digits. Such a model would be useless for classifying \n",
    "new digit samples. Always keep this in mind: deep learning models tend to be good at fitting to the training data, but the real challenge \n",
    "is generalization, not fitting.\n",
    "\n",
    "On the other hand, if the network has limited memorization resources, it will not be able to learn this mapping as easily, and thus, in \n",
    "order to minimize its loss, it will have to resort to learning compressed representations that have predictive power regarding the targets \n",
    "-- precisely the type of representations that we are interested in. At the same time, keep in mind that you should be using models that have \n",
    "enough parameters that they won't be underfitting: your model shouldn't be starved for memorization resources. There is a compromise to be \n",
    "found between \"too much capacity\" and \"not enough capacity\".\n",
    "\n",
    "Unfortunately, there is no magical formula to determine what the right number of layers is, or what the right size for each layer is. You \n",
    "will have to evaluate an array of different architectures (on your validation set, not on your test set, of course) in order to find the \n",
    "right model size for your data. The general workflow to find an appropriate model size is to start with relatively few layers and \n",
    "parameters, and start increasing the size of the layers or adding new layers until you see diminishing returns with regard to the \n",
    "validation loss.\n",
    "\n",
    "Let's try this on our movie review classification network. Our original network was as such:"
   ]
  },
  {
   "cell_type": "code",
   "execution_count": 3,
   "metadata": {},
   "outputs": [
    {
     "name": "stdout",
     "output_type": "stream",
     "text": [
      "WARNING:tensorflow:From C:\\Users\\gaborstefanics\\Anaconda3\\envs\\TensorFlow\\lib\\site-packages\\keras\\backend\\tensorflow_backend.py:74: The name tf.get_default_graph is deprecated. Please use tf.compat.v1.get_default_graph instead.\n",
      "\n",
      "WARNING:tensorflow:From C:\\Users\\gaborstefanics\\Anaconda3\\envs\\TensorFlow\\lib\\site-packages\\keras\\backend\\tensorflow_backend.py:517: The name tf.placeholder is deprecated. Please use tf.compat.v1.placeholder instead.\n",
      "\n",
      "WARNING:tensorflow:From C:\\Users\\gaborstefanics\\Anaconda3\\envs\\TensorFlow\\lib\\site-packages\\keras\\backend\\tensorflow_backend.py:4138: The name tf.random_uniform is deprecated. Please use tf.random.uniform instead.\n",
      "\n",
      "WARNING:tensorflow:From C:\\Users\\gaborstefanics\\Anaconda3\\envs\\TensorFlow\\lib\\site-packages\\keras\\optimizers.py:790: The name tf.train.Optimizer is deprecated. Please use tf.compat.v1.train.Optimizer instead.\n",
      "\n",
      "WARNING:tensorflow:From C:\\Users\\gaborstefanics\\Anaconda3\\envs\\TensorFlow\\lib\\site-packages\\keras\\backend\\tensorflow_backend.py:3376: The name tf.log is deprecated. Please use tf.math.log instead.\n",
      "\n",
      "WARNING:tensorflow:From C:\\Users\\gaborstefanics\\Anaconda3\\envs\\TensorFlow\\lib\\site-packages\\tensorflow\\python\\ops\\nn_impl.py:180: add_dispatch_support.<locals>.wrapper (from tensorflow.python.ops.array_ops) is deprecated and will be removed in a future version.\n",
      "Instructions for updating:\n",
      "Use tf.where in 2.0, which has the same broadcast rule as np.where\n"
     ]
    }
   ],
   "source": [
    "from keras import models\n",
    "from keras import layers\n",
    "\n",
    "original_model = models.Sequential()\n",
    "original_model.add(layers.Dense(16, activation='relu', input_shape=(10000,)))\n",
    "original_model.add(layers.Dense(16, activation='relu'))\n",
    "original_model.add(layers.Dense(1, activation='sigmoid'))\n",
    "\n",
    "original_model.compile(optimizer='rmsprop',\n",
    "                       loss='binary_crossentropy',\n",
    "                       metrics=['acc'])"
   ]
  },
  {
   "cell_type": "markdown",
   "metadata": {},
   "source": [
    "Now let's try to replace it with this smaller network:"
   ]
  },
  {
   "cell_type": "code",
   "execution_count": 4,
   "metadata": {},
   "outputs": [],
   "source": [
    "smaller_model = models.Sequential()\n",
    "smaller_model.add(layers.Dense(4, activation='relu', input_shape=(10000,)))\n",
    "smaller_model.add(layers.Dense(4, activation='relu'))\n",
    "smaller_model.add(layers.Dense(1, activation='sigmoid'))\n",
    "\n",
    "smaller_model.compile(optimizer='rmsprop',\n",
    "                      loss='binary_crossentropy',\n",
    "                      metrics=['acc'])"
   ]
  },
  {
   "cell_type": "markdown",
   "metadata": {},
   "source": [
    "\n",
    "Here's a comparison of the validation losses of the original network and the smaller network. The dots are the validation loss values of \n",
    "the smaller network, and the crosses are the initial network (remember: a lower validation loss signals a better model)."
   ]
  },
  {
   "cell_type": "code",
   "execution_count": 5,
   "metadata": {},
   "outputs": [
    {
     "name": "stdout",
     "output_type": "stream",
     "text": [
      "WARNING:tensorflow:From C:\\Users\\gaborstefanics\\Anaconda3\\envs\\TensorFlow\\lib\\site-packages\\keras\\backend\\tensorflow_backend.py:986: The name tf.assign_add is deprecated. Please use tf.compat.v1.assign_add instead.\n",
      "\n",
      "Train on 25000 samples, validate on 25000 samples\n",
      "Epoch 1/20\n",
      "25000/25000 [==============================] - 12s 473us/step - loss: 0.4449 - acc: 0.8244 - val_loss: 0.3284 - val_acc: 0.8840\n",
      "Epoch 2/20\n",
      "25000/25000 [==============================] - 9s 352us/step - loss: 0.2575 - acc: 0.9080 - val_loss: 0.2863 - val_acc: 0.8887\n",
      "Epoch 3/20\n",
      "25000/25000 [==============================] - 9s 353us/step - loss: 0.1993 - acc: 0.9290 - val_loss: 0.2818 - val_acc: 0.8889\n",
      "Epoch 4/20\n",
      "25000/25000 [==============================] - 9s 355us/step - loss: 0.1669 - acc: 0.9409 - val_loss: 0.2937 - val_acc: 0.8846\n",
      "Epoch 5/20\n",
      "25000/25000 [==============================] - 9s 355us/step - loss: 0.1439 - acc: 0.9495 - val_loss: 0.3113 - val_acc: 0.8805\n",
      "Epoch 6/20\n",
      "25000/25000 [==============================] - 9s 356us/step - loss: 0.1265 - acc: 0.9554 - val_loss: 0.3477 - val_acc: 0.8724\n",
      "Epoch 7/20\n",
      "25000/25000 [==============================] - 9s 356us/step - loss: 0.1118 - acc: 0.9617 - val_loss: 0.3576 - val_acc: 0.8722\n",
      "Epoch 8/20\n",
      "25000/25000 [==============================] - 9s 367us/step - loss: 0.0989 - acc: 0.9663 - val_loss: 0.3948 - val_acc: 0.8670\n",
      "Epoch 9/20\n",
      "25000/25000 [==============================] - 7s 299us/step - loss: 0.0855 - acc: 0.9713 - val_loss: 0.4337 - val_acc: 0.8611\n",
      "Epoch 10/20\n",
      "25000/25000 [==============================] - 9s 356us/step - loss: 0.0769 - acc: 0.9750 - val_loss: 0.4988 - val_acc: 0.8528\n",
      "Epoch 11/20\n",
      "25000/25000 [==============================] - 9s 356us/step - loss: 0.0697 - acc: 0.9775 - val_loss: 0.4835 - val_acc: 0.8595\n",
      "Epoch 12/20\n",
      "25000/25000 [==============================] - 9s 357us/step - loss: 0.0581 - acc: 0.9817 - val_loss: 0.5186 - val_acc: 0.8569\n",
      "Epoch 13/20\n",
      "25000/25000 [==============================] - 9s 355us/step - loss: 0.0524 - acc: 0.9844 - val_loss: 0.5343 - val_acc: 0.8585\n",
      "Epoch 14/20\n",
      "25000/25000 [==============================] - 9s 354us/step - loss: 0.0438 - acc: 0.9870 - val_loss: 0.6123 - val_acc: 0.8494\n",
      "Epoch 15/20\n",
      "25000/25000 [==============================] - 9s 351us/step - loss: 0.0385 - acc: 0.9888 - val_loss: 0.6114 - val_acc: 0.8537\n",
      "Epoch 16/20\n",
      "25000/25000 [==============================] - 9s 358us/step - loss: 0.0317 - acc: 0.9913 - val_loss: 0.6394 - val_acc: 0.8550\n",
      "Epoch 17/20\n",
      "25000/25000 [==============================] - 9s 359us/step - loss: 0.0272 - acc: 0.9927 - val_loss: 0.7472 - val_acc: 0.8439\n",
      "Epoch 18/20\n",
      "25000/25000 [==============================] - 9s 358us/step - loss: 0.0216 - acc: 0.9950 - val_loss: 0.7203 - val_acc: 0.8508\n",
      "Epoch 19/20\n",
      "25000/25000 [==============================] - 9s 357us/step - loss: 0.0229 - acc: 0.9932 - val_loss: 0.7511 - val_acc: 0.8504\n",
      "Epoch 20/20\n",
      "25000/25000 [==============================] - 9s 354us/step - loss: 0.0146 - acc: 0.9965 - val_loss: 0.8972 - val_acc: 0.8383\n"
     ]
    }
   ],
   "source": [
    "original_hist = original_model.fit(x_train, y_train,\n",
    "                                   epochs=20,\n",
    "                                   batch_size=512,\n",
    "                                   validation_data=(x_test, y_test))"
   ]
  },
  {
   "cell_type": "code",
   "execution_count": 6,
   "metadata": {},
   "outputs": [
    {
     "name": "stdout",
     "output_type": "stream",
     "text": [
      "Train on 25000 samples, validate on 25000 samples\n",
      "Epoch 1/20\n",
      "25000/25000 [==============================] - 10s 394us/step - loss: 0.5814 - acc: 0.7019 - val_loss: 0.5308 - val_acc: 0.7568\n",
      "Epoch 2/20\n",
      "25000/25000 [==============================] - 9s 350us/step - loss: 0.4845 - acc: 0.8448 - val_loss: 0.4874 - val_acc: 0.8280\n",
      "Epoch 3/20\n",
      "25000/25000 [==============================] - 9s 350us/step - loss: 0.4388 - acc: 0.8933 - val_loss: 0.4663 - val_acc: 0.8499\n",
      "Epoch 4/20\n",
      "25000/25000 [==============================] - 9s 349us/step - loss: 0.4077 - acc: 0.9162 - val_loss: 0.4542 - val_acc: 0.8625\n",
      "Epoch 5/20\n",
      "25000/25000 [==============================] - 9s 349us/step - loss: 0.3831 - acc: 0.9316 - val_loss: 0.4507 - val_acc: 0.8630\n",
      "Epoch 6/20\n",
      "25000/25000 [==============================] - 9s 349us/step - loss: 0.3620 - acc: 0.9406 - val_loss: 0.4429 - val_acc: 0.8720\n",
      "Epoch 7/20\n",
      "25000/25000 [==============================] - 9s 348us/step - loss: 0.3425 - acc: 0.9514 - val_loss: 0.4511 - val_acc: 0.8668\n",
      "Epoch 8/20\n",
      "25000/25000 [==============================] - 9s 350us/step - loss: 0.3263 - acc: 0.9563 - val_loss: 0.4489 - val_acc: 0.8688\n",
      "Epoch 9/20\n",
      "25000/25000 [==============================] - 9s 347us/step - loss: 0.3100 - acc: 0.9616 - val_loss: 0.4802 - val_acc: 0.8589\n",
      "Epoch 10/20\n",
      "25000/25000 [==============================] - 9s 350us/step - loss: 0.2958 - acc: 0.9658 - val_loss: 0.4752 - val_acc: 0.8612\n",
      "Epoch 11/20\n",
      "25000/25000 [==============================] - 9s 349us/step - loss: 0.2820 - acc: 0.9684 - val_loss: 0.4870 - val_acc: 0.8602\n",
      "Epoch 12/20\n",
      "25000/25000 [==============================] - 9s 348us/step - loss: 0.2691 - acc: 0.9710 - val_loss: 0.4863 - val_acc: 0.8618\n",
      "Epoch 13/20\n",
      "25000/25000 [==============================] - 9s 349us/step - loss: 0.2568 - acc: 0.9744 - val_loss: 0.5141 - val_acc: 0.8593\n",
      "Epoch 14/20\n",
      "25000/25000 [==============================] - 9s 353us/step - loss: 0.2456 - acc: 0.9761 - val_loss: 0.5506 - val_acc: 0.8550\n",
      "Epoch 15/20\n",
      "25000/25000 [==============================] - 9s 350us/step - loss: 0.2342 - acc: 0.9780 - val_loss: 0.5102 - val_acc: 0.8608\n",
      "Epoch 16/20\n",
      "25000/25000 [==============================] - 9s 361us/step - loss: 0.2239 - acc: 0.9798 - val_loss: 0.5304 - val_acc: 0.8580\n",
      "Epoch 17/20\n",
      "25000/25000 [==============================] - 9s 370us/step - loss: 0.2145 - acc: 0.9810 - val_loss: 0.5757 - val_acc: 0.8543\n",
      "Epoch 18/20\n",
      "25000/25000 [==============================] - 9s 348us/step - loss: 0.2052 - acc: 0.9824 - val_loss: 0.6121 - val_acc: 0.8511\n",
      "Epoch 19/20\n",
      "25000/25000 [==============================] - 9s 348us/step - loss: 0.1967 - acc: 0.9830 - val_loss: 0.5844 - val_acc: 0.8531\n",
      "Epoch 20/20\n",
      "25000/25000 [==============================] - 9s 348us/step - loss: 0.1889 - acc: 0.9836 - val_loss: 0.6366 - val_acc: 0.8508\n"
     ]
    }
   ],
   "source": [
    "smaller_model_hist = smaller_model.fit(x_train, y_train,\n",
    "                                       epochs=20,\n",
    "                                       batch_size=512,\n",
    "                                       validation_data=(x_test, y_test))"
   ]
  },
  {
   "cell_type": "code",
   "execution_count": 7,
   "metadata": {},
   "outputs": [],
   "source": [
    "epochs = range(1, 21)\n",
    "original_val_loss = original_hist.history['val_loss']\n",
    "smaller_model_val_loss = smaller_model_hist.history['val_loss']"
   ]
  },
  {
   "cell_type": "code",
   "execution_count": 9,
   "metadata": {},
   "outputs": [
    {
     "data": {
      "image/png": "[encoded data removed]",
      "text/plain": [
       "<Figure size 432x288 with 1 Axes>"
      ]
     },
     "metadata": {
      "needs_background": "light"
     },
     "output_type": "display_data"
    }
   ],
   "source": [
    "import matplotlib.pyplot as plt\n",
    "\n",
    "# b+ is for \"blue cross\"\n",
    "plt.plot(epochs, original_val_loss, 'b+', label='Original model')\n",
    "# \"bo\" is for \"blue dot\"\n",
    "plt.plot(epochs, smaller_model_val_loss, 'bo', label='Smaller model')\n",
    "plt.xlabel('Epochs')\n",
    "plt.ylabel('Validation loss')\n",
    "plt.legend()\n",
    "\n",
    "plt.show()"
   ]
  },
  {
   "cell_type": "markdown",
   "metadata": {},
   "source": [
    "\n",
    "As you can see, the smaller network starts overfitting later than the reference one (after 6 epochs rather than 4) and its performance \n",
    "degrades much more slowly once it starts overfitting.\n",
    "\n",
    "Now, for kicks, let's add to this benchmark a network that has much more capacity, far more than the problem would warrant:"
   ]
  },
  {
   "cell_type": "code",
   "execution_count": 10,
   "metadata": {},
   "outputs": [],
   "source": [
    "bigger_model = models.Sequential()\n",
    "bigger_model.add(layers.Dense(512, activation='relu', input_shape=(10000,)))\n",
    "bigger_model.add(layers.Dense(512, activation='relu'))\n",
    "bigger_model.add(layers.Dense(1, activation='sigmoid'))\n",
    "\n",
    "bigger_model.compile(optimizer='rmsprop',\n",
    "                     loss='binary_crossentropy',\n",
    "                     metrics=['acc'])"
   ]
  },
  {
   "cell_type": "code",
   "execution_count": 11,
   "metadata": {},
   "outputs": [
    {
     "name": "stdout",
     "output_type": "stream",
     "text": [
      "Train on 25000 samples, validate on 25000 samples\n",
      "Epoch 1/20\n",
      "25000/25000 [==============================] - 19s 742us/step - loss: 0.4664 - acc: 0.7939 - val_loss: 0.3618 - val_acc: 0.8430\n",
      "Epoch 2/20\n",
      "25000/25000 [==============================] - 17s 671us/step - loss: 0.2200 - acc: 0.9123 - val_loss: 0.2757 - val_acc: 0.8874\n",
      "Epoch 3/20\n",
      "25000/25000 [==============================] - 17s 697us/step - loss: 0.1436 - acc: 0.9462 - val_loss: 0.2879 - val_acc: 0.8845\n",
      "Epoch 4/20\n",
      "25000/25000 [==============================] - 17s 698us/step - loss: 0.0695 - acc: 0.9800 - val_loss: 0.4141 - val_acc: 0.8811\n",
      "Epoch 5/20\n",
      "25000/25000 [==============================] - 16s 657us/step - loss: 0.0644 - acc: 0.9873 - val_loss: 0.4868 - val_acc: 0.8823\n",
      "Epoch 6/20\n",
      "25000/25000 [==============================] - 17s 695us/step - loss: 0.0817 - acc: 0.9873 - val_loss: 0.4924 - val_acc: 0.8786\n",
      "Epoch 7/20\n",
      "25000/25000 [==============================] - 17s 669us/step - loss: 0.0014 - acc: 1.0000 - val_loss: 0.6644 - val_acc: 0.8814\n",
      "Epoch 8/20\n",
      "25000/25000 [==============================] - 19s 753us/step - loss: 0.0979 - acc: 0.9879 - val_loss: 0.7133 - val_acc: 0.8728\n",
      "Epoch 9/20\n",
      "25000/25000 [==============================] - 23s 927us/step - loss: 3.9186e-04 - acc: 1.0000 - val_loss: 0.7306 - val_acc: 0.8755\n",
      "Epoch 10/20\n",
      "25000/25000 [==============================] - 16s 654us/step - loss: 8.6970e-05 - acc: 1.0000 - val_loss: 0.8176 - val_acc: 0.8783\n",
      "Epoch 11/20\n",
      "25000/25000 [==============================] - 17s 663us/step - loss: 0.1098 - acc: 0.9892 - val_loss: 0.8615 - val_acc: 0.8658\n",
      "Epoch 12/20\n",
      "25000/25000 [==============================] - 18s 707us/step - loss: 5.7989e-04 - acc: 0.9998 - val_loss: 0.7658 - val_acc: 0.8787\n",
      "Epoch 13/20\n",
      "25000/25000 [==============================] - 17s 674us/step - loss: 1.5029e-05 - acc: 1.0000 - val_loss: 0.8364 - val_acc: 0.8789\n",
      "Epoch 14/20\n",
      "25000/25000 [==============================] - 17s 679us/step - loss: 3.8724e-06 - acc: 1.0000 - val_loss: 0.9222 - val_acc: 0.8783\n",
      "Epoch 15/20\n",
      "25000/25000 [==============================] - 17s 700us/step - loss: 0.0914 - acc: 0.9913 - val_loss: 0.9158 - val_acc: 0.8708\n",
      "Epoch 16/20\n",
      "25000/25000 [==============================] - 17s 666us/step - loss: 0.0051 - acc: 0.9990 - val_loss: 0.7741 - val_acc: 0.8766\n",
      "Epoch 17/20\n",
      "25000/25000 [==============================] - 17s 682us/step - loss: 0.0240 - acc: 0.9947 - val_loss: 0.7178 - val_acc: 0.8763\n",
      "Epoch 18/20\n",
      "25000/25000 [==============================] - 18s 713us/step - loss: 3.4874e-05 - acc: 1.0000 - val_loss: 0.8191 - val_acc: 0.8785\n",
      "Epoch 19/20\n",
      "25000/25000 [==============================] - 18s 716us/step - loss: 4.7123e-06 - acc: 1.0000 - val_loss: 0.9149 - val_acc: 0.8786\n",
      "Epoch 20/20\n",
      "25000/25000 [==============================] - 18s 702us/step - loss: 0.0641 - acc: 0.9921 - val_loss: 0.8872 - val_acc: 0.8719\n"
     ]
    }
   ],
   "source": [
    "bigger_model_hist = bigger_model.fit(x_train, y_train,\n",
    "                                     epochs=20,\n",
    "                                     batch_size=512,\n",
    "                                     validation_data=(x_test, y_test))"
   ]
  },
  {
   "cell_type": "markdown",
   "metadata": {},
   "source": [
    "Here's how the bigger network fares compared to the reference one. The dots are the validation loss values of the bigger network, and the \n",
    "crosses are the initial network."
   ]
  },
  {
   "cell_type": "code",
   "execution_count": 13,
   "metadata": {},
   "outputs": [
    {
     "data": {
      "image/png": "[encoded data removed]",
      "text/plain": [
       "<Figure size 432x288 with 1 Axes>"
      ]
     },
     "metadata": {
      "needs_background": "light"
     },
     "output_type": "display_data"
    }
   ],
   "source": [
    "bigger_model_val_loss = bigger_model_hist.history['val_loss']\n",
    "\n",
    "plt.plot(epochs, original_val_loss, 'b+', label='Original model')\n",
    "plt.plot(epochs, bigger_model_val_loss, 'bo', label='Bigger model')\n",
    "plt.xlabel('Epochs')\n",
    "plt.ylabel('Validation loss')\n",
    "plt.legend()\n",
    "\n",
    "plt.show()"
   ]
  },
  {
   "cell_type": "markdown",
   "metadata": {},
   "source": [
    "\n",
    "The bigger network starts overfitting almost right away, after just one epoch, and overfits much more severely. Its validation loss is also \n",
    "more noisy.\n",
    "\n",
    "Meanwhile, here are the training losses for our two networks:"
   ]
  },
  {
   "cell_type": "code",
   "execution_count": 14,
   "metadata": {},
   "outputs": [
    {
     "data": {
      "image/png": "[encoded data removed]",
      "text/plain": [
       "<Figure size 432x288 with 1 Axes>"
      ]
     },
     "metadata": {
      "needs_background": "light"
     },
     "output_type": "display_data"
    }
   ],
   "source": [
    "original_train_loss = original_hist.history['loss']\n",
    "bigger_model_train_loss = bigger_model_hist.history['loss']\n",
    "\n",
    "plt.plot(epochs, original_train_loss, 'b+', label='Original model')\n",
    "plt.plot(epochs, bigger_model_train_loss, 'bo', label='Bigger model')\n",
    "plt.xlabel('Epochs')\n",
    "plt.ylabel('Training loss')\n",
    "plt.legend()\n",
    "\n",
    "plt.show()"
   ]
  },
  {
   "cell_type": "markdown",
   "metadata": {},
   "source": [
    "As you can see, the bigger network gets its training loss near zero very quickly. The more capacity the network has, the quicker it will be \n",
    "able to model the training data (resulting in a low training loss), but the more susceptible it is to overfitting (resulting in a large \n",
    "difference between the training and validation loss)."
   ]
  },
  {
   "cell_type": "markdown",
   "metadata": {},
   "source": [
    "## Adding weight regularization\n",
    "\n",
    "\n",
    "You may be familiar with _Occam's Razor_ principle: given two explanations for something, the explanation most likely to be correct is the \n",
    "\"simplest\" one, the one that makes the least amount of assumptions. This also applies to the models learned by neural networks: given some \n",
    "training data and a network architecture, there are multiple sets of weights values (multiple _models_) that could explain the data, and \n",
    "simpler models are less likely to overfit than complex ones.\n",
    "\n",
    "A \"simple model\" in this context is a model where the distribution of parameter values has less entropy (or a model with fewer \n",
    "parameters altogether, as we saw in the section above). Thus a common way to mitigate overfitting is to put constraints on the complexity \n",
    "of a network by forcing its weights to only take small values, which makes the distribution of weight values more \"regular\". This is called \n",
    "\"weight regularization\", and it is done by adding to the loss function of the network a _cost_ associated with having large weights. This \n",
    "cost comes in two flavors:\n",
    "\n",
    "* L1 regularization, where the cost added is proportional to the _absolute value of the weights coefficients_ (i.e. to what is called the \n",
    "\"L1 norm\" of the weights).\n",
    "* L2 regularization, where the cost added is proportional to the _square of the value of the weights coefficients_ (i.e. to what is called \n",
    "the \"L2 norm\" of the weights). L2 regularization is also called _weight decay_ in the context of neural networks. Don't let the different \n",
    "name confuse you: weight decay is mathematically the exact same as L2 regularization.\n",
    "\n",
    "In Keras, weight regularization is added by passing _weight regularizer instances_ to layers as keyword arguments. Let's add L2 weight \n",
    "regularization to our movie review classification network:"
   ]
  },
  {
   "cell_type": "code",
   "execution_count": 15,
   "metadata": {},
   "outputs": [],
   "source": [
    "from keras import regularizers\n",
    "\n",
    "l2_model = models.Sequential()\n",
    "l2_model.add(layers.Dense(16, kernel_regularizer=regularizers.l2(0.001),\n",
    "                          activation='relu', input_shape=(10000,)))\n",
    "l2_model.add(layers.Dense(16, kernel_regularizer=regularizers.l2(0.001),\n",
    "                          activation='relu'))\n",
    "l2_model.add(layers.Dense(1, activation='sigmoid'))"
   ]
  },
  {
   "cell_type": "code",
   "execution_count": 16,
   "metadata": {},
   "outputs": [],
   "source": [
    "l2_model.compile(optimizer='rmsprop',\n",
    "                 loss='binary_crossentropy',\n",
    "                 metrics=['acc'])"
   ]
  },
  {
   "cell_type": "markdown",
   "metadata": {},
   "source": [
    "`l2(0.001)` means that every coefficient in the weight matrix of the layer will add `0.001 * weight_coefficient_value` to the total loss of \n",
    "the network. Note that because this penalty is _only added at training time_, the loss for this network will be much higher at training \n",
    "than at test time.\n",
    "\n",
    "Here's the impact of our L2 regularization penalty:"
   ]
  },
  {
   "cell_type": "code",
   "execution_count": 17,
   "metadata": {},
   "outputs": [
    {
     "name": "stdout",
     "output_type": "stream",
     "text": [
      "Train on 25000 samples, validate on 25000 samples\n",
      "Epoch 1/20\n",
      "25000/25000 [==============================] - 11s 429us/step - loss: 0.4879 - acc: 0.8153 - val_loss: 0.3908 - val_acc: 0.8643\n",
      "Epoch 2/20\n",
      "25000/25000 [==============================] - 9s 356us/step - loss: 0.3100 - acc: 0.9060 - val_loss: 0.3305 - val_acc: 0.8891\n",
      "Epoch 3/20\n",
      "25000/25000 [==============================] - 9s 356us/step - loss: 0.2658 - acc: 0.9201 - val_loss: 0.3305 - val_acc: 0.8868\n",
      "Epoch 4/20\n",
      "25000/25000 [==============================] - 9s 355us/step - loss: 0.2459 - acc: 0.9281 - val_loss: 0.3412 - val_acc: 0.8822\n",
      "Epoch 5/20\n",
      "25000/25000 [==============================] - 9s 356us/step - loss: 0.2324 - acc: 0.9353 - val_loss: 0.3814 - val_acc: 0.8682\n",
      "Epoch 6/20\n",
      "25000/25000 [==============================] - 9s 358us/step - loss: 0.2240 - acc: 0.9386 - val_loss: 0.3660 - val_acc: 0.8752\n",
      "Epoch 7/20\n",
      "25000/25000 [==============================] - 9s 356us/step - loss: 0.2174 - acc: 0.9410 - val_loss: 0.3745 - val_acc: 0.8738\n",
      "Epoch 8/20\n",
      "25000/25000 [==============================] - 9s 358us/step - loss: 0.2106 - acc: 0.9444 - val_loss: 0.3728 - val_acc: 0.8750\n",
      "Epoch 9/20\n",
      "25000/25000 [==============================] - 9s 356us/step - loss: 0.2046 - acc: 0.9463 - val_loss: 0.3759 - val_acc: 0.8755\n",
      "Epoch 10/20\n",
      "25000/25000 [==============================] - 9s 356us/step - loss: 0.2010 - acc: 0.9496 - val_loss: 0.3818 - val_acc: 0.8746\n",
      "Epoch 11/20\n",
      "25000/25000 [==============================] - 9s 354us/step - loss: 0.1950 - acc: 0.9497 - val_loss: 0.3835 - val_acc: 0.8758\n",
      "Epoch 12/20\n",
      "25000/25000 [==============================] - 9s 356us/step - loss: 0.1923 - acc: 0.9516 - val_loss: 0.3943 - val_acc: 0.8744\n",
      "Epoch 13/20\n",
      "25000/25000 [==============================] - 9s 355us/step - loss: 0.1879 - acc: 0.9542 - val_loss: 0.3966 - val_acc: 0.8736\n",
      "Epoch 14/20\n",
      "25000/25000 [==============================] - 9s 354us/step - loss: 0.1815 - acc: 0.9569 - val_loss: 0.4223 - val_acc: 0.8670\n",
      "Epoch 15/20\n",
      "25000/25000 [==============================] - 9s 356us/step - loss: 0.1813 - acc: 0.9572 - val_loss: 0.4596 - val_acc: 0.8565\n",
      "Epoch 16/20\n",
      "25000/25000 [==============================] - 9s 356us/step - loss: 0.1754 - acc: 0.9603 - val_loss: 0.4419 - val_acc: 0.8659\n",
      "Epoch 17/20\n",
      "25000/25000 [==============================] - 9s 356us/step - loss: 0.1716 - acc: 0.9611 - val_loss: 0.4199 - val_acc: 0.8703\n",
      "Epoch 18/20\n",
      "25000/25000 [==============================] - 9s 345us/step - loss: 0.1684 - acc: 0.9626 - val_loss: 0.4396 - val_acc: 0.8673\n",
      "Epoch 19/20\n",
      "25000/25000 [==============================] - 9s 357us/step - loss: 0.1652 - acc: 0.9642 - val_loss: 0.4425 - val_acc: 0.8654\n",
      "Epoch 20/20\n",
      "25000/25000 [==============================] - 9s 357us/step - loss: 0.1608 - acc: 0.9662 - val_loss: 0.4333 - val_acc: 0.8686\n"
     ]
    }
   ],
   "source": [
    "l2_model_hist = l2_model.fit(x_train, y_train,\n",
    "                             epochs=20,\n",
    "                             batch_size=512,\n",
    "                             validation_data=(x_test, y_test))"
   ]
  },
  {
   "cell_type": "code",
   "execution_count": 18,
   "metadata": {},
   "outputs": [
    {
     "data": {
      "image/png": "[encoded data removed]",
      "text/plain": [
       "<Figure size 432x288 with 1 Axes>"
      ]
     },
     "metadata": {
      "needs_background": "light"
     },
     "output_type": "display_data"
    }
   ],
   "source": [
    "l2_model_val_loss = l2_model_hist.history['val_loss']\n",
    "\n",
    "plt.plot(epochs, original_val_loss, 'b+', label='Original model')\n",
    "plt.plot(epochs, l2_model_val_loss, 'bo', label='L2-regularized model')\n",
    "plt.xlabel('Epochs')\n",
    "plt.ylabel('Validation loss')\n",
    "plt.legend()\n",
    "\n",
    "plt.show()"
   ]
  },
  {
   "cell_type": "markdown",
   "metadata": {},
   "source": [
    "\n",
    "\n",
    "As you can see, the model with L2 regularization (dots) has become much more resistant to overfitting than the reference model (crosses), \n",
    "even though both models have the same number of parameters.\n",
    "\n",
    "As alternatives to L2 regularization, you could use one of the following Keras weight regularizers:"
   ]
  },
  {
   "cell_type": "code",
   "execution_count": 19,
   "metadata": {},
   "outputs": [
    {
     "data": {
      "text/plain": [
       "<keras.regularizers.L1L2 at 0x185ff7d76d8>"
      ]
     },
     "execution_count": 19,
     "metadata": {},
     "output_type": "execute_result"
    }
   ],
   "source": [
    "from keras import regularizers\n",
    "\n",
    "# L1 regularization\n",
    "regularizers.l1(0.001)\n",
    "\n",
    "# L1 and L2 regularization at the same time\n",
    "regularizers.l1_l2(l1=0.001, l2=0.001)"
   ]
  },
  {
   "cell_type": "markdown",
   "metadata": {},
   "source": [
    "## Adding dropout\n",
    "\n",
    "\n",
    "Dropout is one of the most effective and most commonly used regularization techniques for neural networks, developed by Hinton and his \n",
    "students at the University of Toronto. Dropout, applied to a layer, consists of randomly \"dropping out\" (i.e. setting to zero) a number of \n",
    "output features of the layer during training. Let's say a given layer would normally have returned a vector `[0.2, 0.5, 1.3, 0.8, 1.1]` for a \n",
    "given input sample during training; after applying dropout, this vector will have a few zero entries distributed at random, e.g. `[0, 0.5, \n",
    "1.3, 0, 1.1]`. The \"dropout rate\" is the fraction of the features that are being zeroed-out; it is usually set between 0.2 and 0.5. At test \n",
    "time, no units are dropped out, and instead the layer's output values are scaled down by a factor equal to the dropout rate, so as to \n",
    "balance for the fact that more units are active than at training time.\n",
    "\n",
    "Consider a Numpy matrix containing the output of a layer, `layer_output`, of shape `(batch_size, features)`. At training time, we would be \n",
    "zero-ing out at random a fraction of the values in the matrix:"
   ]
  },
  {
   "cell_type": "code",
   "execution_count": 20,
   "metadata": {},
   "outputs": [
    {
     "ename": "NameError",
     "evalue": "name 'layer_output' is not defined",
     "output_type": "error",
     "traceback": [
      "\u001b[1;31m---------------------------------------------------------------------------\u001b[0m",
      "\u001b[1;31mNameError\u001b[0m                                 Traceback (most recent call last)",
      "\u001b[1;32m<ipython-input-20-f1f187ff4a2c>\u001b[0m in \u001b[0;36m<module>\u001b[1;34m\u001b[0m\n\u001b[0;32m      1\u001b[0m \u001b[1;31m# At training time: we drop out 50% of the units in the output\u001b[0m\u001b[1;33m\u001b[0m\u001b[1;33m\u001b[0m\u001b[1;33m\u001b[0m\u001b[0m\n\u001b[1;32m----> 2\u001b[1;33m \u001b[0mlayer_output\u001b[0m \u001b[1;33m*=\u001b[0m \u001b[0mnp\u001b[0m\u001b[1;33m.\u001b[0m\u001b[0mrandint\u001b[0m\u001b[1;33m(\u001b[0m\u001b[1;36m0\u001b[0m\u001b[1;33m,\u001b[0m \u001b[0mhigh\u001b[0m\u001b[1;33m=\u001b[0m\u001b[1;36m2\u001b[0m\u001b[1;33m,\u001b[0m \u001b[0msize\u001b[0m\u001b[1;33m=\u001b[0m\u001b[0mlayer_output\u001b[0m\u001b[1;33m.\u001b[0m\u001b[0mshape\u001b[0m\u001b[1;33m)\u001b[0m\u001b[1;33m\u001b[0m\u001b[1;33m\u001b[0m\u001b[0m\n\u001b[0m",
      "\u001b[1;31mNameError\u001b[0m: name 'layer_output' is not defined"
     ]
    }
   ],
   "source": [
    "# At training time: we drop out 50% of the units in the output\n",
    "layer_output *= np.randint(0, high=2, size=layer_output.shape)"
   ]
  },
  {
   "cell_type": "markdown",
   "metadata": {},
   "source": [
    "\n",
    "At test time, we would be scaling the output down by the dropout rate. Here we scale by 0.5 (because we were previous dropping half the \n",
    "units):"
   ]
  },
  {
   "cell_type": "code",
   "execution_count": 22,
   "metadata": {},
   "outputs": [
    {
     "ename": "NameError",
     "evalue": "name 'layer_output' is not defined",
     "output_type": "error",
     "traceback": [
      "\u001b[1;31m---------------------------------------------------------------------------\u001b[0m",
      "\u001b[1;31mNameError\u001b[0m                                 Traceback (most recent call last)",
      "\u001b[1;32m<ipython-input-22-bfeb0a27d9eb>\u001b[0m in \u001b[0;36m<module>\u001b[1;34m\u001b[0m\n\u001b[0;32m      1\u001b[0m \u001b[1;31m# At test time:\u001b[0m\u001b[1;33m\u001b[0m\u001b[1;33m\u001b[0m\u001b[1;33m\u001b[0m\u001b[0m\n\u001b[1;32m----> 2\u001b[1;33m \u001b[0mlayer_output\u001b[0m \u001b[1;33m*=\u001b[0m \u001b[1;36m0.5\u001b[0m\u001b[1;33m\u001b[0m\u001b[1;33m\u001b[0m\u001b[0m\n\u001b[0m",
      "\u001b[1;31mNameError\u001b[0m: name 'layer_output' is not defined"
     ]
    }
   ],
   "source": [
    "# At test time:\n",
    "layer_output *= 0.5"
   ]
  },
  {
   "cell_type": "markdown",
   "metadata": {},
   "source": [
    "\n",
    "Note that this process can be implemented by doing both operations at training time and leaving the output unchanged at test time, which is \n",
    "often the way it is implemented in practice:"
   ]
  },
  {
   "cell_type": "code",
   "execution_count": 21,
   "metadata": {},
   "outputs": [
    {
     "ename": "NameError",
     "evalue": "name 'layer_output' is not defined",
     "output_type": "error",
     "traceback": [
      "\u001b[1;31m---------------------------------------------------------------------------\u001b[0m",
      "\u001b[1;31mNameError\u001b[0m                                 Traceback (most recent call last)",
      "\u001b[1;32m<ipython-input-21-e035a3ac027e>\u001b[0m in \u001b[0;36m<module>\u001b[1;34m\u001b[0m\n\u001b[0;32m      1\u001b[0m \u001b[1;31m# At training time:\u001b[0m\u001b[1;33m\u001b[0m\u001b[1;33m\u001b[0m\u001b[1;33m\u001b[0m\u001b[0m\n\u001b[1;32m----> 2\u001b[1;33m \u001b[0mlayer_output\u001b[0m \u001b[1;33m*=\u001b[0m \u001b[0mnp\u001b[0m\u001b[1;33m.\u001b[0m\u001b[0mrandint\u001b[0m\u001b[1;33m(\u001b[0m\u001b[1;36m0\u001b[0m\u001b[1;33m,\u001b[0m \u001b[0mhigh\u001b[0m\u001b[1;33m=\u001b[0m\u001b[1;36m2\u001b[0m\u001b[1;33m,\u001b[0m \u001b[0msize\u001b[0m\u001b[1;33m=\u001b[0m\u001b[0mlayer_output\u001b[0m\u001b[1;33m.\u001b[0m\u001b[0mshape\u001b[0m\u001b[1;33m)\u001b[0m\u001b[1;33m\u001b[0m\u001b[1;33m\u001b[0m\u001b[0m\n\u001b[0m\u001b[0;32m      3\u001b[0m \u001b[1;31m# Note that we are scaling *up* rather scaling *down* in this case\u001b[0m\u001b[1;33m\u001b[0m\u001b[1;33m\u001b[0m\u001b[1;33m\u001b[0m\u001b[0m\n\u001b[0;32m      4\u001b[0m \u001b[0mlayer_output\u001b[0m \u001b[1;33m/=\u001b[0m \u001b[1;36m0.5\u001b[0m\u001b[1;33m\u001b[0m\u001b[1;33m\u001b[0m\u001b[0m\n",
      "\u001b[1;31mNameError\u001b[0m: name 'layer_output' is not defined"
     ]
    }
   ],
   "source": [
    "# At training time:\n",
    "layer_output *= np.randint(0, high=2, size=layer_output.shape)\n",
    "# Note that we are scaling *up* rather scaling *down* in this case\n",
    "layer_output /= 0.5"
   ]
  },
  {
   "cell_type": "markdown",
   "metadata": {},
   "source": [
    "\n",
    "This technique may seem strange and arbitrary. Why would this help reduce overfitting? Geoff Hinton has said that he was inspired, among \n",
    "other things, by a fraud prevention mechanism used by banks -- in his own words: _\"I went to my bank. The tellers kept changing and I asked \n",
    "one of them why. He said he didn’t know but they got moved around a lot. I figured it must be because it would require cooperation \n",
    "between employees to successfully defraud the bank. This made me realize that randomly removing a different subset of neurons on each \n",
    "example would prevent conspiracies and thus reduce overfitting\"_.\n",
    "\n",
    "The core idea is that introducing noise in the output values of a layer can break up happenstance patterns that are not significant (what \n",
    "Hinton refers to as \"conspiracies\"), which the network would start memorizing if no noise was present. \n",
    "\n",
    "In Keras you can introduce dropout in a network via the `Dropout` layer, which gets applied to the output of layer right before it, e.g.:"
   ]
  },
  {
   "cell_type": "code",
   "execution_count": 22,
   "metadata": {},
   "outputs": [
    {
     "ename": "NameError",
     "evalue": "name 'model' is not defined",
     "output_type": "error",
     "traceback": [
      "\u001b[1;31m---------------------------------------------------------------------------\u001b[0m",
      "\u001b[1;31mNameError\u001b[0m                                 Traceback (most recent call last)",
      "\u001b[1;32m<ipython-input-22-65ed89de200e>\u001b[0m in \u001b[0;36m<module>\u001b[1;34m\u001b[0m\n\u001b[1;32m----> 1\u001b[1;33m \u001b[0mmodel\u001b[0m\u001b[1;33m.\u001b[0m\u001b[0madd\u001b[0m\u001b[1;33m(\u001b[0m\u001b[0mlayers\u001b[0m\u001b[1;33m.\u001b[0m\u001b[0mDropout\u001b[0m\u001b[1;33m(\u001b[0m\u001b[1;36m0.5\u001b[0m\u001b[1;33m)\u001b[0m\u001b[1;33m)\u001b[0m\u001b[1;33m\u001b[0m\u001b[1;33m\u001b[0m\u001b[0m\n\u001b[0m",
      "\u001b[1;31mNameError\u001b[0m: name 'model' is not defined"
     ]
    }
   ],
   "source": [
    "model.add(layers.Dropout(0.5))"
   ]
  },
  {
   "cell_type": "markdown",
   "metadata": {},
   "source": [
    "Let's add two `Dropout` layers in our IMDB network to see how well they do at reducing overfitting:"
   ]
  },
  {
   "cell_type": "code",
   "execution_count": 23,
   "metadata": {},
   "outputs": [
    {
     "name": "stdout",
     "output_type": "stream",
     "text": [
      "WARNING:tensorflow:From C:\\Users\\gaborstefanics\\Anaconda3\\envs\\TensorFlow\\lib\\site-packages\\keras\\backend\\tensorflow_backend.py:3445: calling dropout (from tensorflow.python.ops.nn_ops) with keep_prob is deprecated and will be removed in a future version.\n",
      "Instructions for updating:\n",
      "Please use `rate` instead of `keep_prob`. Rate should be set to `rate = 1 - keep_prob`.\n"
     ]
    }
   ],
   "source": [
    "dpt_model = models.Sequential()\n",
    "dpt_model.add(layers.Dense(16, activation='relu', input_shape=(10000,)))\n",
    "dpt_model.add(layers.Dropout(0.5))\n",
    "dpt_model.add(layers.Dense(16, activation='relu'))\n",
    "dpt_model.add(layers.Dropout(0.5))\n",
    "dpt_model.add(layers.Dense(1, activation='sigmoid'))\n",
    "\n",
    "dpt_model.compile(optimizer='rmsprop',\n",
    "                  loss='binary_crossentropy',\n",
    "                  metrics=['acc'])"
   ]
  },
  {
   "cell_type": "code",
   "execution_count": 24,
   "metadata": {},
   "outputs": [
    {
     "name": "stdout",
     "output_type": "stream",
     "text": [
      "Train on 25000 samples, validate on 25000 samples\n",
      "Epoch 1/20\n",
      "25000/25000 [==============================] - 11s 427us/step - loss: 0.5902 - acc: 0.6841 - val_loss: 0.4317 - val_acc: 0.8618\n",
      "Epoch 2/20\n",
      "25000/25000 [==============================] - 9s 360us/step - loss: 0.4355 - acc: 0.8184 - val_loss: 0.3478 - val_acc: 0.8700\n",
      "Epoch 3/20\n",
      "25000/25000 [==============================] - 9s 356us/step - loss: 0.3468 - acc: 0.8710 - val_loss: 0.2930 - val_acc: 0.8857\n",
      "Epoch 4/20\n",
      "25000/25000 [==============================] - 9s 360us/step - loss: 0.2881 - acc: 0.8982 - val_loss: 0.2761 - val_acc: 0.8885\n",
      "Epoch 5/20\n",
      "25000/25000 [==============================] - 9s 357us/step - loss: 0.2537 - acc: 0.9130 - val_loss: 0.2809 - val_acc: 0.8887\n",
      "Epoch 6/20\n",
      "25000/25000 [==============================] - 9s 358us/step - loss: 0.2219 - acc: 0.9269 - val_loss: 0.2885 - val_acc: 0.8872\n",
      "Epoch 7/20\n",
      "25000/25000 [==============================] - 9s 357us/step - loss: 0.1969 - acc: 0.9360 - val_loss: 0.3200 - val_acc: 0.8853\n",
      "Epoch 8/20\n",
      "25000/25000 [==============================] - 9s 358us/step - loss: 0.1772 - acc: 0.9425 - val_loss: 0.3308 - val_acc: 0.8842\n",
      "Epoch 9/20\n",
      "25000/25000 [==============================] - 9s 358us/step - loss: 0.1719 - acc: 0.9451 - val_loss: 0.3500 - val_acc: 0.8839\n",
      "Epoch 10/20\n",
      "25000/25000 [==============================] - 9s 358us/step - loss: 0.1509 - acc: 0.9508 - val_loss: 0.3745 - val_acc: 0.8827\n",
      "Epoch 11/20\n",
      "25000/25000 [==============================] - 9s 359us/step - loss: 0.1469 - acc: 0.9537 - val_loss: 0.3917 - val_acc: 0.8810\n",
      "Epoch 12/20\n",
      "25000/25000 [==============================] - 9s 360us/step - loss: 0.1365 - acc: 0.9577 - val_loss: 0.4347 - val_acc: 0.8755\n",
      "Epoch 13/20\n",
      "25000/25000 [==============================] - 9s 358us/step - loss: 0.1244 - acc: 0.9607 - val_loss: 0.4591 - val_acc: 0.8768\n",
      "Epoch 14/20\n",
      "25000/25000 [==============================] - 9s 358us/step - loss: 0.1183 - acc: 0.9614 - val_loss: 0.4641 - val_acc: 0.8750\n",
      "Epoch 15/20\n",
      "25000/25000 [==============================] - 9s 357us/step - loss: 0.1142 - acc: 0.9636 - val_loss: 0.4928 - val_acc: 0.8728\n",
      "Epoch 16/20\n",
      "25000/25000 [==============================] - 9s 359us/step - loss: 0.1144 - acc: 0.9644 - val_loss: 0.5129 - val_acc: 0.8756\n",
      "Epoch 17/20\n",
      "25000/25000 [==============================] - 9s 359us/step - loss: 0.1084 - acc: 0.9656 - val_loss: 0.5346 - val_acc: 0.8733\n",
      "Epoch 18/20\n",
      "25000/25000 [==============================] - 9s 358us/step - loss: 0.1090 - acc: 0.9666 - val_loss: 0.5374 - val_acc: 0.8734\n",
      "Epoch 19/20\n",
      "25000/25000 [==============================] - 9s 359us/step - loss: 0.0993 - acc: 0.9686 - val_loss: 0.5795 - val_acc: 0.8728\n",
      "Epoch 20/20\n",
      "25000/25000 [==============================] - 9s 357us/step - loss: 0.1022 - acc: 0.9690 - val_loss: 0.5850 - val_acc: 0.8711\n"
     ]
    }
   ],
   "source": [
    "dpt_model_hist = dpt_model.fit(x_train, y_train,\n",
    "                               epochs=20,\n",
    "                               batch_size=512,\n",
    "                               validation_data=(x_test, y_test))"
   ]
  },
  {
   "cell_type": "markdown",
   "metadata": {},
   "source": [
    "Let's plot the results:"
   ]
  },
  {
   "cell_type": "code",
   "execution_count": 25,
   "metadata": {},
   "outputs": [
    {
     "data": {
      "image/png": "[encoded data removed]",
      "text/plain": [
       "<Figure size 432x288 with 1 Axes>"
      ]
     },
     "metadata": {
      "needs_background": "light"
     },
     "output_type": "display_data"
    }
   ],
   "source": [
    "dpt_model_val_loss = dpt_model_hist.history['val_loss']\n",
    "\n",
    "plt.plot(epochs, original_val_loss, 'b+', label='Original model')\n",
    "plt.plot(epochs, dpt_model_val_loss, 'bo', label='Dropout-regularized model')\n",
    "plt.xlabel('Epochs')\n",
    "plt.ylabel('Validation loss')\n",
    "plt.legend()\n",
    "\n",
    "plt.show()"
   ]
  },
  {
   "cell_type": "markdown",
   "metadata": {},
   "source": [
    "\n",
    "Again, a clear improvement over the reference network.\n",
    "\n",
    "To recap: here the most common ways to prevent overfitting in neural networks:\n",
    "\n",
    "* Getting more training data.\n",
    "* Reducing the capacity of the network.\n",
    "* Adding weight regularization.\n",
    "* Adding dropout."
   ]
  }
 ],
 "metadata": {
  "kernelspec": {
   "display_name": "Python 3",
   "language": "python",
   "name": "python3"
  },
  "language_info": {
   "codemirror_mode": {
    "name": "ipython",
    "version": 3
   },
   "file_extension": ".py",
   "mimetype": "text/x-python",
   "name": "python",
   "nbconvert_exporter": "python",
   "pygments_lexer": "ipython3",
   "version": "3.7.3"
  }
 },
 "nbformat": 4,
 "nbformat_minor": 2
}
