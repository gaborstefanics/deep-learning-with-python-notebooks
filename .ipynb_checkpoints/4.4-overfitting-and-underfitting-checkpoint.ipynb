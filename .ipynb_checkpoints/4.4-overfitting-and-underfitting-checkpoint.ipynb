{
 "cells": [
  {
   "cell_type": "code",
   "execution_count": 1,
   "metadata": {},
   "outputs": [
    {
     "name": "stderr",
     "output_type": "stream",
     "text": [
      "Using TensorFlow backend.\n"
     ]
    },
    {
     "data": {
      "text/plain": [
<<<<<<< HEAD
       "'2.0.8'"
=======
       "'2.2.4'"
>>>>>>> 1c09093d0f128ba5a58bec7e812ecafd06bec6f9
      ]
     },
     "execution_count": 1,
     "metadata": {},
     "output_type": "execute_result"
    }
   ],
   "source": [
    "import keras\n",
    "keras.__version__"
   ]
  },
  {
   "cell_type": "markdown",
   "metadata": {},
   "source": [
    "# Overfitting and underfitting\n",
    "\n",
    "This notebook contains the code samples found in Chapter 3, Section 6 of [Deep Learning with Python](https://www.manning.com/books/deep-learning-with-python?a_aid=keras&a_bid=76564dff). Note that the original text features far more content, in particular further explanations and figures: in this notebook, you will only find source code and related comments.\n",
    "\n",
    "----\n",
    "\n",
    "\n",
    "In all the examples we saw in the previous chapter -- movie review sentiment prediction, topic classification, and house price regression -- \n",
    "we could notice that the performance of our model on the held-out validation data would always peak after a few epochs and would then start \n",
    "degrading, i.e. our model would quickly start to _overfit_ to the training data. Overfitting happens in every single machine learning \n",
    "problem. Learning how to deal with overfitting is essential to mastering machine learning.\n",
    "\n",
    "The fundamental issue in machine learning is the tension between optimization and generalization. \"Optimization\" refers to the process of \n",
    "adjusting a model to get the best performance possible on the training data (the \"learning\" in \"machine learning\"), while \"generalization\" \n",
    "refers to how well the trained model would perform on data it has never seen before. The goal of the game is to get good generalization, of \n",
    "course, but you do not control generalization; you can only adjust the model based on its training data.\n",
    "\n",
    "At the beginning of training, optimization and generalization are correlated: the lower your loss on training data, the lower your loss on \n",
    "test data. While this is happening, your model is said to be _under-fit_: there is still progress to be made; the network hasn't yet \n",
    "modeled all relevant patterns in the training data. But after a certain number of iterations on the training data, generalization stops \n",
    "improving, validation metrics stall then start degrading: the model is then starting to over-fit, i.e. is it starting to learn patterns \n",
    "that are specific to the training data but that are misleading or irrelevant when it comes to new data.\n",
    "\n",
    "To prevent a model from learning misleading or irrelevant patterns found in the training data, _the best solution is of course to get \n",
    "more training data_. A model trained on more data will naturally generalize better. When that is no longer possible, the next best solution \n",
    "is to modulate the quantity of information that your model is allowed to store, or to add constraints on what information it is allowed to \n",
    "store. If a network can only afford to memorize a small number of patterns, the optimization process will force it to focus on the most \n",
    "prominent patterns, which have a better chance of generalizing well.\n",
    "\n",
    "The processing of fighting overfitting in this way is called _regularization_. Let's review some of the most common regularization \n",
    "techniques, and let's apply them in practice to improve our movie classification model from  the previous chapter."
   ]
  },
  {
   "cell_type": "markdown",
   "metadata": {},
   "source": [
    "Note: in this notebook we will be using the IMDB test set as our validation set. It doesn't matter in this context.\n",
    "\n",
    "Let's prepare the data using the code from Chapter 3, Section 5:"
   ]
  },
  {
   "cell_type": "code",
<<<<<<< HEAD
   "execution_count": 2,
   "metadata": {
    "collapsed": true
   },
=======
   "execution_count": 4,
   "metadata": {},
>>>>>>> 1c09093d0f128ba5a58bec7e812ecafd06bec6f9
   "outputs": [],
   "source": [
    "from keras.datasets import imdb\n",
    "import numpy as np\n",
<<<<<<< HEAD
    "\n",
    "(train_data, train_labels), (test_data, test_labels) = imdb.load_data(num_words=10000)\n",
    "\n",
=======
    "# save np.load\n",
    "np_load_old = np.load\n",
    "\n",
    "# modify the default parameters of np.load\n",
    "np.load = lambda *a,**k: np_load_old(*a, allow_pickle=True, **k)\n",
    "\n",
    "from keras.datasets import imdb\n",
    "(train_data, train_labels), (test_data, test_labels) = imdb.load_data(num_words=10000)\n",
    "\n",
    "# restore np.load for future normal usage\n",
    "np.load = np_load_old\n",
    "\n",
>>>>>>> 1c09093d0f128ba5a58bec7e812ecafd06bec6f9
    "def vectorize_sequences(sequences, dimension=10000):\n",
    "    # Create an all-zero matrix of shape (len(sequences), dimension)\n",
    "    results = np.zeros((len(sequences), dimension))\n",
    "    for i, sequence in enumerate(sequences):\n",
    "        results[i, sequence] = 1.  # set specific indices of results[i] to 1s\n",
    "    return results\n",
    "\n",
    "# Our vectorized training data\n",
    "x_train = vectorize_sequences(train_data)\n",
    "# Our vectorized test data\n",
    "x_test = vectorize_sequences(test_data)\n",
    "# Our vectorized labels\n",
    "y_train = np.asarray(train_labels).astype('float32')\n",
    "y_test = np.asarray(test_labels).astype('float32')"
   ]
  },
  {
   "cell_type": "markdown",
   "metadata": {},
   "source": [
    "# Fighting overfitting\n",
    "\n",
    "## Reducing the network's size\n",
    "\n",
    "\n",
    "The simplest way to prevent overfitting is to reduce the size of the model, i.e. the number of learnable parameters in the model (which is \n",
    "determined by the number of layers and the number of units per layer). In deep learning, the number of learnable parameters in a model is \n",
    "often referred to as the model's \"capacity\". Intuitively, a model with more parameters will have more \"memorization capacity\" and therefore \n",
    "will be able to easily learn a perfect dictionary-like mapping between training samples and their targets, a mapping without any \n",
    "generalization power. For instance, a model with 500,000 binary parameters could easily be made to learn the class of every digits in the \n",
    "MNIST training set: we would only need 10 binary parameters for each of the 50,000 digits. Such a model would be useless for classifying \n",
    "new digit samples. Always keep this in mind: deep learning models tend to be good at fitting to the training data, but the real challenge \n",
    "is generalization, not fitting.\n",
    "\n",
    "On the other hand, if the network has limited memorization resources, it will not be able to learn this mapping as easily, and thus, in \n",
    "order to minimize its loss, it will have to resort to learning compressed representations that have predictive power regarding the targets \n",
    "-- precisely the type of representations that we are interested in. At the same time, keep in mind that you should be using models that have \n",
    "enough parameters that they won't be underfitting: your model shouldn't be starved for memorization resources. There is a compromise to be \n",
    "found between \"too much capacity\" and \"not enough capacity\".\n",
    "\n",
    "Unfortunately, there is no magical formula to determine what the right number of layers is, or what the right size for each layer is. You \n",
    "will have to evaluate an array of different architectures (on your validation set, not on your test set, of course) in order to find the \n",
    "right model size for your data. The general workflow to find an appropriate model size is to start with relatively few layers and \n",
    "parameters, and start increasing the size of the layers or adding new layers until you see diminishing returns with regard to the \n",
    "validation loss.\n",
    "\n",
    "Let's try this on our movie review classification network. Our original network was as such:"
   ]
  },
  {
   "cell_type": "code",
<<<<<<< HEAD
   "execution_count": 4,
   "metadata": {
    "collapsed": true
   },
   "outputs": [],
=======
   "execution_count": 5,
   "metadata": {},
   "outputs": [
    {
     "name": "stdout",
     "output_type": "stream",
     "text": [
      "WARNING:tensorflow:From C:\\Users\\gaborstefanics\\Anaconda3\\envs\\TensorFlow\\lib\\site-packages\\keras\\backend\\tensorflow_backend.py:74: The name tf.get_default_graph is deprecated. Please use tf.compat.v1.get_default_graph instead.\n",
      "\n",
      "WARNING:tensorflow:From C:\\Users\\gaborstefanics\\Anaconda3\\envs\\TensorFlow\\lib\\site-packages\\keras\\backend\\tensorflow_backend.py:517: The name tf.placeholder is deprecated. Please use tf.compat.v1.placeholder instead.\n",
      "\n",
      "WARNING:tensorflow:From C:\\Users\\gaborstefanics\\Anaconda3\\envs\\TensorFlow\\lib\\site-packages\\keras\\backend\\tensorflow_backend.py:4138: The name tf.random_uniform is deprecated. Please use tf.random.uniform instead.\n",
      "\n",
      "WARNING:tensorflow:From C:\\Users\\gaborstefanics\\Anaconda3\\envs\\TensorFlow\\lib\\site-packages\\keras\\optimizers.py:790: The name tf.train.Optimizer is deprecated. Please use tf.compat.v1.train.Optimizer instead.\n",
      "\n",
      "WARNING:tensorflow:From C:\\Users\\gaborstefanics\\Anaconda3\\envs\\TensorFlow\\lib\\site-packages\\keras\\backend\\tensorflow_backend.py:3376: The name tf.log is deprecated. Please use tf.math.log instead.\n",
      "\n",
      "WARNING:tensorflow:From C:\\Users\\gaborstefanics\\Anaconda3\\envs\\TensorFlow\\lib\\site-packages\\tensorflow\\python\\ops\\nn_impl.py:180: add_dispatch_support.<locals>.wrapper (from tensorflow.python.ops.array_ops) is deprecated and will be removed in a future version.\n",
      "Instructions for updating:\n",
      "Use tf.where in 2.0, which has the same broadcast rule as np.where\n"
     ]
    }
   ],
>>>>>>> 1c09093d0f128ba5a58bec7e812ecafd06bec6f9
   "source": [
    "from keras import models\n",
    "from keras import layers\n",
    "\n",
    "original_model = models.Sequential()\n",
    "original_model.add(layers.Dense(16, activation='relu', input_shape=(10000,)))\n",
    "original_model.add(layers.Dense(16, activation='relu'))\n",
    "original_model.add(layers.Dense(1, activation='sigmoid'))\n",
    "\n",
    "original_model.compile(optimizer='rmsprop',\n",
    "                       loss='binary_crossentropy',\n",
    "                       metrics=['acc'])"
   ]
  },
  {
   "cell_type": "markdown",
   "metadata": {},
   "source": [
    "Now let's try to replace it with this smaller network:"
   ]
  },
  {
   "cell_type": "code",
<<<<<<< HEAD
   "execution_count": 5,
   "metadata": {
    "collapsed": true
   },
=======
   "execution_count": 6,
   "metadata": {},
>>>>>>> 1c09093d0f128ba5a58bec7e812ecafd06bec6f9
   "outputs": [],
   "source": [
    "smaller_model = models.Sequential()\n",
    "smaller_model.add(layers.Dense(4, activation='relu', input_shape=(10000,)))\n",
    "smaller_model.add(layers.Dense(4, activation='relu'))\n",
    "smaller_model.add(layers.Dense(1, activation='sigmoid'))\n",
    "\n",
    "smaller_model.compile(optimizer='rmsprop',\n",
    "                      loss='binary_crossentropy',\n",
    "                      metrics=['acc'])"
   ]
  },
  {
   "cell_type": "markdown",
   "metadata": {},
   "source": [
    "\n",
    "Here's a comparison of the validation losses of the original network and the smaller network. The dots are the validation loss values of \n",
    "the smaller network, and the crosses are the initial network (remember: a lower validation loss signals a better model)."
   ]
  },
  {
   "cell_type": "code",
<<<<<<< HEAD
   "execution_count": 6,
=======
   "execution_count": 7,
>>>>>>> 1c09093d0f128ba5a58bec7e812ecafd06bec6f9
   "metadata": {},
   "outputs": [
    {
     "name": "stdout",
     "output_type": "stream",
     "text": [
<<<<<<< HEAD
      "Train on 25000 samples, validate on 25000 samples\n",
      "Epoch 1/20\n",
      "25000/25000 [==============================] - 3s - loss: 0.4594 - acc: 0.8188 - val_loss: 0.3429 - val_acc: 0.8812\n",
      "Epoch 2/20\n",
      "25000/25000 [==============================] - 2s - loss: 0.2659 - acc: 0.9075 - val_loss: 0.2873 - val_acc: 0.8905\n",
      "Epoch 3/20\n",
      "25000/25000 [==============================] - 2s - loss: 0.2060 - acc: 0.9276 - val_loss: 0.2827 - val_acc: 0.8879\n",
      "Epoch 4/20\n",
      "25000/25000 [==============================] - 2s - loss: 0.1697 - acc: 0.9401 - val_loss: 0.2921 - val_acc: 0.8851\n",
      "Epoch 5/20\n",
      "25000/25000 [==============================] - 2s - loss: 0.1495 - acc: 0.9470 - val_loss: 0.3100 - val_acc: 0.8812\n",
      "Epoch 6/20\n",
      "25000/25000 [==============================] - 2s - loss: 0.1283 - acc: 0.9572 - val_loss: 0.3336 - val_acc: 0.8748\n",
      "Epoch 7/20\n",
      "25000/25000 [==============================] - 2s - loss: 0.1121 - acc: 0.9624 - val_loss: 0.3987 - val_acc: 0.8593\n",
      "Epoch 8/20\n",
      "25000/25000 [==============================] - 2s - loss: 0.0994 - acc: 0.9670 - val_loss: 0.3788 - val_acc: 0.8702\n",
      "Epoch 9/20\n",
      "25000/25000 [==============================] - 2s - loss: 0.0889 - acc: 0.9716 - val_loss: 0.4242 - val_acc: 0.8603\n",
      "Epoch 10/20\n",
      "25000/25000 [==============================] - 2s - loss: 0.0782 - acc: 0.9757 - val_loss: 0.4256 - val_acc: 0.8653\n",
      "Epoch 11/20\n",
      "25000/25000 [==============================] - 2s - loss: 0.0691 - acc: 0.9792 - val_loss: 0.4515 - val_acc: 0.8638\n",
      "Epoch 12/20\n",
      "25000/25000 [==============================] - 2s - loss: 0.0603 - acc: 0.9820 - val_loss: 0.5102 - val_acc: 0.8610\n",
      "Epoch 13/20\n",
      "25000/25000 [==============================] - 2s - loss: 0.0518 - acc: 0.9851 - val_loss: 0.5281 - val_acc: 0.8587\n",
      "Epoch 14/20\n",
      "25000/25000 [==============================] - 2s - loss: 0.0446 - acc: 0.9873 - val_loss: 0.5441 - val_acc: 0.8589\n",
      "Epoch 15/20\n",
      "25000/25000 [==============================] - 2s - loss: 0.0367 - acc: 0.9903 - val_loss: 0.5777 - val_acc: 0.8574\n",
      "Epoch 16/20\n",
      "25000/25000 [==============================] - 2s - loss: 0.0313 - acc: 0.9922 - val_loss: 0.6377 - val_acc: 0.8555\n",
      "Epoch 17/20\n",
      "25000/25000 [==============================] - 2s - loss: 0.0247 - acc: 0.9941 - val_loss: 0.7269 - val_acc: 0.8501\n",
      "Epoch 18/20\n",
      "25000/25000 [==============================] - 2s - loss: 0.0203 - acc: 0.9956 - val_loss: 0.6920 - val_acc: 0.8516\n",
      "Epoch 19/20\n",
      "25000/25000 [==============================] - 2s - loss: 0.0156 - acc: 0.9970 - val_loss: 0.7689 - val_acc: 0.8425\n",
      "Epoch 20/20\n",
      "25000/25000 [==============================] - 2s - loss: 0.0144 - acc: 0.9966 - val_loss: 0.7694 - val_acc: 0.8487\n"
=======
      "WARNING:tensorflow:From C:\\Users\\gaborstefanics\\Anaconda3\\envs\\TensorFlow\\lib\\site-packages\\keras\\backend\\tensorflow_backend.py:986: The name tf.assign_add is deprecated. Please use tf.compat.v1.assign_add instead.\n",
      "\n",
      "Train on 25000 samples, validate on 25000 samples\n",
      "Epoch 1/20\n",
      "25000/25000 [==============================] - 12s 470us/step - loss: 0.4444 - acc: 0.8249 - val_loss: 0.3289 - val_acc: 0.8836\n",
      "Epoch 2/20\n",
      "25000/25000 [==============================] - 9s 361us/step - loss: 0.2574 - acc: 0.9082 - val_loss: 0.2864 - val_acc: 0.8884\n",
      "Epoch 3/20\n",
      "25000/25000 [==============================] - 9s 357us/step - loss: 0.1994 - acc: 0.9289 - val_loss: 0.2819 - val_acc: 0.8886\n",
      "Epoch 4/20\n",
      "25000/25000 [==============================] - 9s 357us/step - loss: 0.1671 - acc: 0.9412 - val_loss: 0.2939 - val_acc: 0.8851\n",
      "Epoch 5/20\n",
      "25000/25000 [==============================] - 9s 358us/step - loss: 0.1442 - acc: 0.9497 - val_loss: 0.3115 - val_acc: 0.8805\n",
      "Epoch 6/20\n",
      "25000/25000 [==============================] - 9s 360us/step - loss: 0.1269 - acc: 0.9553 - val_loss: 0.3484 - val_acc: 0.8720\n",
      "Epoch 7/20\n",
      "25000/25000 [==============================] - 9s 358us/step - loss: 0.1130 - acc: 0.9613 - val_loss: 0.3576 - val_acc: 0.8731\n",
      "Epoch 8/20\n",
      "25000/25000 [==============================] - 9s 359us/step - loss: 0.0993 - acc: 0.9666 - val_loss: 0.3948 - val_acc: 0.8661\n",
      "Epoch 9/20\n",
      "25000/25000 [==============================] - 9s 360us/step - loss: 0.0861 - acc: 0.9714 - val_loss: 0.4224 - val_acc: 0.8635\n",
      "Epoch 10/20\n",
      "25000/25000 [==============================] - 9s 359us/step - loss: 0.0779 - acc: 0.9751 - val_loss: 0.4948 - val_acc: 0.8534\n",
      "Epoch 11/20\n",
      "25000/25000 [==============================] - 9s 359us/step - loss: 0.0708 - acc: 0.9772 - val_loss: 0.4808 - val_acc: 0.8590\n",
      "Epoch 12/20\n",
      "25000/25000 [==============================] - 9s 361us/step - loss: 0.0589 - acc: 0.9817 - val_loss: 0.5181 - val_acc: 0.8566: 0.\n",
      "Epoch 13/20\n",
      "25000/25000 [==============================] - 9s 360us/step - loss: 0.0536 - acc: 0.9834 - val_loss: 0.5307 - val_acc: 0.8588\n",
      "Epoch 14/20\n",
      "25000/25000 [==============================] - 9s 360us/step - loss: 0.0445 - acc: 0.9867 - val_loss: 0.6066 - val_acc: 0.8500\n",
      "Epoch 15/20\n",
      "25000/25000 [==============================] - 9s 359us/step - loss: 0.0387 - acc: 0.9884 - val_loss: 0.6013 - val_acc: 0.8552\n",
      "Epoch 16/20\n",
      "25000/25000 [==============================] - 9s 357us/step - loss: 0.0331 - acc: 0.9903 - val_loss: 0.6367 - val_acc: 0.8544\n",
      "Epoch 17/20\n",
      "25000/25000 [==============================] - 9s 359us/step - loss: 0.0281 - acc: 0.9921 - val_loss: 0.6822 - val_acc: 0.8517\n",
      "Epoch 18/20\n",
      "25000/25000 [==============================] - 9s 361us/step - loss: 0.0223 - acc: 0.9943 - val_loss: 0.7355 - val_acc: 0.8479\n",
      "Epoch 19/20\n",
      "25000/25000 [==============================] - 9s 360us/step - loss: 0.0203 - acc: 0.9953 - val_loss: 0.7501 - val_acc: 0.8510\n",
      "Epoch 20/20\n",
      "25000/25000 [==============================] - 9s 358us/step - loss: 0.0169 - acc: 0.9959 - val_loss: 0.8887 - val_acc: 0.8378\n"
>>>>>>> 1c09093d0f128ba5a58bec7e812ecafd06bec6f9
     ]
    }
   ],
   "source": [
    "original_hist = original_model.fit(x_train, y_train,\n",
    "                                   epochs=20,\n",
    "                                   batch_size=512,\n",
    "                                   validation_data=(x_test, y_test))"
   ]
  },
  {
   "cell_type": "code",
<<<<<<< HEAD
   "execution_count": 7,
=======
   "execution_count": 8,
>>>>>>> 1c09093d0f128ba5a58bec7e812ecafd06bec6f9
   "metadata": {},
   "outputs": [
    {
     "name": "stdout",
     "output_type": "stream",
     "text": [
      "Train on 25000 samples, validate on 25000 samples\n",
      "Epoch 1/20\n",
<<<<<<< HEAD
      "25000/25000 [==============================] - 2s - loss: 0.5737 - acc: 0.8049 - val_loss: 0.4826 - val_acc: 0.8616\n",
      "Epoch 2/20\n",
      "25000/25000 [==============================] - 2s - loss: 0.3973 - acc: 0.8866 - val_loss: 0.3699 - val_acc: 0.8776\n",
      "Epoch 3/20\n",
      "25000/25000 [==============================] - 2s - loss: 0.2985 - acc: 0.9054 - val_loss: 0.3140 - val_acc: 0.8860\n",
      "Epoch 4/20\n",
      "25000/25000 [==============================] - 2s - loss: 0.2428 - acc: 0.9189 - val_loss: 0.2913 - val_acc: 0.8870\n",
      "Epoch 5/20\n",
      "25000/25000 [==============================] - 2s - loss: 0.2085 - acc: 0.9290 - val_loss: 0.2809 - val_acc: 0.8897\n",
      "Epoch 6/20\n",
      "25000/25000 [==============================] - 2s - loss: 0.1849 - acc: 0.9360 - val_loss: 0.2772 - val_acc: 0.8899\n",
      "Epoch 7/20\n",
      "25000/25000 [==============================] - 2s - loss: 0.1666 - acc: 0.9430 - val_loss: 0.2835 - val_acc: 0.8863\n",
      "Epoch 8/20\n",
      "25000/25000 [==============================] - 2s - loss: 0.1515 - acc: 0.9487 - val_loss: 0.2909 - val_acc: 0.8850\n",
      "Epoch 9/20\n",
      "25000/25000 [==============================] - 2s - loss: 0.1388 - acc: 0.9526 - val_loss: 0.2984 - val_acc: 0.8842\n",
      "Epoch 10/20\n",
      "25000/25000 [==============================] - 2s - loss: 0.1285 - acc: 0.9569 - val_loss: 0.3102 - val_acc: 0.8818\n",
      "Epoch 11/20\n",
      "25000/25000 [==============================] - 2s - loss: 0.1194 - acc: 0.9599 - val_loss: 0.3219 - val_acc: 0.8794\n",
      "Epoch 12/20\n",
      "25000/25000 [==============================] - 2s - loss: 0.1105 - acc: 0.9648 - val_loss: 0.3379 - val_acc: 0.8774\n",
      "Epoch 13/20\n",
      "25000/25000 [==============================] - 2s - loss: 0.1035 - acc: 0.9674 - val_loss: 0.3532 - val_acc: 0.8730\n",
      "Epoch 14/20\n",
      "25000/25000 [==============================] - 2s - loss: 0.0963 - acc: 0.9688 - val_loss: 0.3651 - val_acc: 0.8731\n",
      "Epoch 15/20\n",
      "25000/25000 [==============================] - 2s - loss: 0.0895 - acc: 0.9724 - val_loss: 0.3858 - val_acc: 0.8703\n",
      "Epoch 16/20\n",
      "25000/25000 [==============================] - 2s - loss: 0.0838 - acc: 0.9734 - val_loss: 0.4157 - val_acc: 0.8654\n",
      "Epoch 17/20\n",
      "25000/25000 [==============================] - 2s - loss: 0.0785 - acc: 0.9764 - val_loss: 0.4214 - val_acc: 0.8677\n",
      "Epoch 18/20\n",
      "25000/25000 [==============================] - 2s - loss: 0.0733 - acc: 0.9784 - val_loss: 0.4390 - val_acc: 0.8644\n",
      "Epoch 19/20\n",
      "25000/25000 [==============================] - 2s - loss: 0.0685 - acc: 0.9796 - val_loss: 0.4539 - val_acc: 0.8638\n",
      "Epoch 20/20\n",
      "25000/25000 [==============================] - 2s - loss: 0.0638 - acc: 0.9822 - val_loss: 0.4744 - val_acc: 0.8617\n"
=======
      "25000/25000 [==============================] - 10s 397us/step - loss: 0.5808 - acc: 0.7016 - val_loss: 0.5310 - val_acc: 0.7562\n",
      "Epoch 2/20\n",
      "25000/25000 [==============================] - 9s 361us/step - loss: 0.4844 - acc: 0.8451 - val_loss: 0.4873 - val_acc: 0.8296\n",
      "Epoch 3/20\n",
      "25000/25000 [==============================] - 9s 358us/step - loss: 0.4389 - acc: 0.8918 - val_loss: 0.4670 - val_acc: 0.8486\n",
      "Epoch 4/20\n",
      "25000/25000 [==============================] - 9s 356us/step - loss: 0.4077 - acc: 0.9150 - val_loss: 0.4529 - val_acc: 0.8657\n",
      "Epoch 5/20\n",
      "25000/25000 [==============================] - 9s 356us/step - loss: 0.3831 - acc: 0.9309 - val_loss: 0.4508 - val_acc: 0.8624\n",
      "Epoch 6/20\n",
      "25000/25000 [==============================] - 9s 356us/step - loss: 0.3621 - acc: 0.9413 - val_loss: 0.4440 - val_acc: 0.8708\n",
      "Epoch 7/20\n",
      "25000/25000 [==============================] - 9s 357us/step - loss: 0.3424 - acc: 0.9515 - val_loss: 0.4578 - val_acc: 0.8626\n",
      "Epoch 8/20\n",
      "25000/25000 [==============================] - 9s 355us/step - loss: 0.3261 - acc: 0.9565 - val_loss: 0.4523 - val_acc: 0.8670\n",
      "Epoch 9/20\n",
      "25000/25000 [==============================] - 9s 356us/step - loss: 0.3097 - acc: 0.9622 - val_loss: 0.4652 - val_acc: 0.8642\n",
      "Epoch 10/20\n",
      "25000/25000 [==============================] - 9s 357us/step - loss: 0.2960 - acc: 0.9655 - val_loss: 0.4640 - val_acc: 0.8650\n",
      "Epoch 11/20\n",
      "25000/25000 [==============================] - 9s 362us/step - loss: 0.2812 - acc: 0.9694 - val_loss: 0.4778 - val_acc: 0.8621\n",
      "Epoch 12/20\n",
      "25000/25000 [==============================] - 9s 364us/step - loss: 0.2687 - acc: 0.9720 - val_loss: 0.4765 - val_acc: 0.8636\n",
      "Epoch 13/20\n",
      "25000/25000 [==============================] - 9s 357us/step - loss: 0.2566 - acc: 0.9747 - val_loss: 0.5244 - val_acc: 0.8566\n",
      "Epoch 14/20\n",
      "25000/25000 [==============================] - 9s 356us/step - loss: 0.2452 - acc: 0.9766 - val_loss: 0.5485 - val_acc: 0.8544\n",
      "Epoch 15/20\n",
      "25000/25000 [==============================] - 9s 356us/step - loss: 0.2338 - acc: 0.9787 - val_loss: 0.5364 - val_acc: 0.8585\n",
      "Epoch 16/20\n",
      "25000/25000 [==============================] - 9s 359us/step - loss: 0.2232 - acc: 0.9807 - val_loss: 0.5385 - val_acc: 0.8584\n",
      "Epoch 17/20\n",
      "25000/25000 [==============================] - 9s 359us/step - loss: 0.2146 - acc: 0.9808 - val_loss: 0.5717 - val_acc: 0.8562\n",
      "Epoch 18/20\n",
      "25000/25000 [==============================] - 9s 357us/step - loss: 0.2053 - acc: 0.9823 - val_loss: 0.5819 - val_acc: 0.8560\n",
      "Epoch 19/20\n",
      "25000/25000 [==============================] - 9s 358us/step - loss: 0.1960 - acc: 0.9834 - val_loss: 0.5577 - val_acc: 0.8542\n",
      "Epoch 20/20\n",
      "25000/25000 [==============================] - 9s 356us/step - loss: 0.1886 - acc: 0.9837 - val_loss: 0.5792 - val_acc: 0.8542\n"
>>>>>>> 1c09093d0f128ba5a58bec7e812ecafd06bec6f9
     ]
    }
   ],
   "source": [
    "smaller_model_hist = smaller_model.fit(x_train, y_train,\n",
    "                                       epochs=20,\n",
    "                                       batch_size=512,\n",
    "                                       validation_data=(x_test, y_test))"
   ]
  },
  {
   "cell_type": "code",
<<<<<<< HEAD
   "execution_count": 8,
   "metadata": {
    "collapsed": true
   },
=======
   "execution_count": 9,
   "metadata": {},
>>>>>>> 1c09093d0f128ba5a58bec7e812ecafd06bec6f9
   "outputs": [],
   "source": [
    "epochs = range(1, 21)\n",
    "original_val_loss = original_hist.history['val_loss']\n",
    "smaller_model_val_loss = smaller_model_hist.history['val_loss']"
   ]
  },
  {
   "cell_type": "code",
<<<<<<< HEAD
   "execution_count": 9,
=======
   "execution_count": 11,
>>>>>>> 1c09093d0f128ba5a58bec7e812ecafd06bec6f9
   "metadata": {},
   "outputs": [
    {
     "data": {
<<<<<<< HEAD
      "image/png": "iVBORw0KGgoAAAANSUhEUgAAAYUAAAEKCAYAAAD9xUlFAAAABHNCSVQICAgIfAhkiAAAAAlwSFlz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\n",
      "text/plain": [
       "<matplotlib.figure.Figure at 0x7f43c33d57f0>"
      ]
     },
     "metadata": {},
=======
      "image/png": "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\n",
      "text/plain": [
       "<Figure size 432x288 with 1 Axes>"
      ]
     },
     "metadata": {
      "needs_background": "light"
     },
>>>>>>> 1c09093d0f128ba5a58bec7e812ecafd06bec6f9
     "output_type": "display_data"
    }
   ],
   "source": [
    "import matplotlib.pyplot as plt\n",
    "\n",
    "# b+ is for \"blue cross\"\n",
    "plt.plot(epochs, original_val_loss, 'b+', label='Original model')\n",
    "# \"bo\" is for \"blue dot\"\n",
    "plt.plot(epochs, smaller_model_val_loss, 'bo', label='Smaller model')\n",
    "plt.xlabel('Epochs')\n",
    "plt.ylabel('Validation loss')\n",
    "plt.legend()\n",
    "\n",
    "plt.show()"
   ]
  },
  {
   "cell_type": "markdown",
   "metadata": {},
   "source": [
    "\n",
    "As you can see, the smaller network starts overfitting later than the reference one (after 6 epochs rather than 4) and its performance \n",
    "degrades much more slowly once it starts overfitting.\n",
    "\n",
    "Now, for kicks, let's add to this benchmark a network that has much more capacity, far more than the problem would warrant:"
   ]
  },
  {
   "cell_type": "code",
<<<<<<< HEAD
   "execution_count": 11,
   "metadata": {
    "collapsed": true
   },
=======
   "execution_count": 12,
   "metadata": {},
>>>>>>> 1c09093d0f128ba5a58bec7e812ecafd06bec6f9
   "outputs": [],
   "source": [
    "bigger_model = models.Sequential()\n",
    "bigger_model.add(layers.Dense(512, activation='relu', input_shape=(10000,)))\n",
    "bigger_model.add(layers.Dense(512, activation='relu'))\n",
    "bigger_model.add(layers.Dense(1, activation='sigmoid'))\n",
    "\n",
    "bigger_model.compile(optimizer='rmsprop',\n",
    "                     loss='binary_crossentropy',\n",
    "                     metrics=['acc'])"
   ]
  },
  {
   "cell_type": "code",
<<<<<<< HEAD
   "execution_count": 12,
=======
   "execution_count": 13,
>>>>>>> 1c09093d0f128ba5a58bec7e812ecafd06bec6f9
   "metadata": {},
   "outputs": [
    {
     "name": "stdout",
     "output_type": "stream",
     "text": [
      "Train on 25000 samples, validate on 25000 samples\n",
      "Epoch 1/20\n",
<<<<<<< HEAD
      "25000/25000 [==============================] - 3s - loss: 0.4539 - acc: 0.8011 - val_loss: 0.4150 - val_acc: 0.8229\n",
      "Epoch 2/20\n",
      "25000/25000 [==============================] - 3s - loss: 0.2148 - acc: 0.9151 - val_loss: 0.2742 - val_acc: 0.8901\n",
      "Epoch 3/20\n",
      "25000/25000 [==============================] - 3s - loss: 0.1217 - acc: 0.9544 - val_loss: 0.5442 - val_acc: 0.7975\n",
      "Epoch 4/20\n",
      "25000/25000 [==============================] - 3s - loss: 0.0552 - acc: 0.9835 - val_loss: 0.4316 - val_acc: 0.8842\n",
      "Epoch 5/20\n",
      "25000/25000 [==============================] - 3s - loss: 0.0662 - acc: 0.9888 - val_loss: 0.5098 - val_acc: 0.8822\n",
      "Epoch 6/20\n",
      "25000/25000 [==============================] - 3s - loss: 0.0017 - acc: 0.9998 - val_loss: 0.6867 - val_acc: 0.8811\n",
      "Epoch 7/20\n",
      "25000/25000 [==============================] - 3s - loss: 0.1019 - acc: 0.9882 - val_loss: 0.6737 - val_acc: 0.8800\n",
      "Epoch 8/20\n",
      "25000/25000 [==============================] - 3s - loss: 0.0735 - acc: 0.9896 - val_loss: 0.6185 - val_acc: 0.8772\n",
      "Epoch 9/20\n",
      "25000/25000 [==============================] - 3s - loss: 3.4759e-04 - acc: 1.0000 - val_loss: 0.7328 - val_acc: 0.8818\n",
      "Epoch 10/20\n",
      "25000/25000 [==============================] - 3s - loss: 0.0504 - acc: 0.9912 - val_loss: 0.7092 - val_acc: 0.8791\n",
      "Epoch 11/20\n",
      "25000/25000 [==============================] - 3s - loss: 0.0589 - acc: 0.9919 - val_loss: 0.6831 - val_acc: 0.8785\n",
      "Epoch 12/20\n",
      "25000/25000 [==============================] - 3s - loss: 1.9067e-04 - acc: 1.0000 - val_loss: 0.8005 - val_acc: 0.8784\n",
      "Epoch 13/20\n",
      "25000/25000 [==============================] - 3s - loss: 0.0623 - acc: 0.9916 - val_loss: 0.7540 - val_acc: 0.8740\n",
      "Epoch 14/20\n",
      "25000/25000 [==============================] - 3s - loss: 0.0274 - acc: 0.9954 - val_loss: 0.7806 - val_acc: 0.8670\n",
      "Epoch 15/20\n",
      "25000/25000 [==============================] - 3s - loss: 0.0011 - acc: 0.9998 - val_loss: 0.8107 - val_acc: 0.8783\n",
      "Epoch 16/20\n",
      "25000/25000 [==============================] - 3s - loss: 0.0445 - acc: 0.9943 - val_loss: 0.8394 - val_acc: 0.8702\n",
      "Epoch 17/20\n",
      "25000/25000 [==============================] - 3s - loss: 0.0268 - acc: 0.9959 - val_loss: 0.7708 - val_acc: 0.8745\n",
      "Epoch 18/20\n",
      "25000/25000 [==============================] - 3s - loss: 7.7057e-04 - acc: 1.0000 - val_loss: 0.8885 - val_acc: 0.8738\n",
      "Epoch 19/20\n",
      "25000/25000 [==============================] - 3s - loss: 0.0297 - acc: 0.9962 - val_loss: 0.8419 - val_acc: 0.8728\n",
      "Epoch 20/20\n",
      "25000/25000 [==============================] - 3s - loss: 0.0018 - acc: 0.9998 - val_loss: 0.8896 - val_acc: 0.8682\n"
=======
      "25000/25000 [==============================] - 19s 769us/step - loss: 0.4643 - acc: 0.7944 - val_loss: 0.2875 - val_acc: 0.8890\n",
      "Epoch 2/20\n",
      "25000/25000 [==============================] - 18s 728us/step - loss: 0.2242 - acc: 0.9124 - val_loss: 0.3259 - val_acc: 0.8626\n",
      "Epoch 3/20\n",
      "25000/25000 [==============================] - 17s 699us/step - loss: 0.1367 - acc: 0.9503 - val_loss: 0.3412 - val_acc: 0.8757\n",
      "Epoch 4/20\n",
      "25000/25000 [==============================] - 17s 678us/step - loss: 0.0742 - acc: 0.9801 - val_loss: 0.4119 - val_acc: 0.8802\n",
      "Epoch 5/20\n",
      "25000/25000 [==============================] - 18s 738us/step - loss: 0.0650 - acc: 0.9880 - val_loss: 0.4954 - val_acc: 0.8812\n",
      "Epoch 6/20\n",
      "25000/25000 [==============================] - 17s 673us/step - loss: 0.0820 - acc: 0.9878 - val_loss: 0.5344 - val_acc: 0.8700\n",
      "Epoch 7/20\n",
      "25000/25000 [==============================] - 17s 673us/step - loss: 0.0011 - acc: 1.0000 - val_loss: 0.6568 - val_acc: 0.8812\n",
      "Epoch 8/20\n",
      "25000/25000 [==============================] - 17s 683us/step - loss: 1.5698e-04 - acc: 1.0000 - val_loss: 0.7783 - val_acc: 0.8806\n",
      "Epoch 9/20\n",
      "25000/25000 [==============================] - 17s 683us/step - loss: 0.1052 - acc: 0.9910 - val_loss: 0.7995 - val_acc: 0.8749ETA: 2s - loss: 0.1311 - a\n",
      "Epoch 10/20\n",
      "25000/25000 [==============================] - 18s 723us/step - loss: 9.4603e-04 - acc: 0.9998 - val_loss: 0.7663 - val_acc: 0.8741\n",
      "Epoch 11/20\n",
      "25000/25000 [==============================] - 18s 714us/step - loss: 0.0730 - acc: 0.9919 - val_loss: 0.7406 - val_acc: 0.8755\n",
      "Epoch 12/20\n",
      "25000/25000 [==============================] - 18s 707us/step - loss: 7.1951e-05 - acc: 1.0000 - val_loss: 0.7973 - val_acc: 0.8756\n",
      "Epoch 13/20\n",
      "25000/25000 [==============================] - 17s 688us/step - loss: 1.5485e-05 - acc: 1.0000 - val_loss: 0.8779 - val_acc: 0.8776\n",
      "Epoch 14/20\n",
      "25000/25000 [==============================] - 18s 721us/step - loss: 2.3698e-06 - acc: 1.0000 - val_loss: 0.9488 - val_acc: 0.8781\n",
      "Epoch 15/20\n",
      "25000/25000 [==============================] - 18s 731us/step - loss: 4.8406e-07 - acc: 1.0000 - val_loss: 1.0180 - val_acc: 0.8785\n",
      "Epoch 16/20\n",
      "25000/25000 [==============================] - 18s 703us/step - loss: 1.7721e-07 - acc: 1.0000 - val_loss: 1.0692 - val_acc: 0.8770\n",
      "Epoch 17/20\n",
      "25000/25000 [==============================] - 18s 726us/step - loss: 1.2817e-07 - acc: 1.0000 - val_loss: 1.0917 - val_acc: 0.8772\n",
      "Epoch 18/20\n",
      "25000/25000 [==============================] - 18s 712us/step - loss: 1.1774e-07 - acc: 1.0000 - val_loss: 1.1034 - val_acc: 0.8783\n",
      "Epoch 19/20\n",
      "25000/25000 [==============================] - 18s 710us/step - loss: 1.1432e-07 - acc: 1.0000 - val_loss: 1.1119 - val_acc: 0.8784\n",
      "Epoch 20/20\n",
      "25000/25000 [==============================] - 17s 690us/step - loss: 1.1266e-07 - acc: 1.0000 - val_loss: 1.1177 - val_acc: 0.8783\n"
>>>>>>> 1c09093d0f128ba5a58bec7e812ecafd06bec6f9
     ]
    }
   ],
   "source": [
    "bigger_model_hist = bigger_model.fit(x_train, y_train,\n",
    "                                     epochs=20,\n",
    "                                     batch_size=512,\n",
    "                                     validation_data=(x_test, y_test))"
   ]
  },
  {
   "cell_type": "markdown",
   "metadata": {},
   "source": [
    "Here's how the bigger network fares compared to the reference one. The dots are the validation loss values of the bigger network, and the \n",
    "crosses are the initial network."
   ]
  },
  {
   "cell_type": "code",
<<<<<<< HEAD
   "execution_count": 26,
=======
   "execution_count": 14,
>>>>>>> 1c09093d0f128ba5a58bec7e812ecafd06bec6f9
   "metadata": {},
   "outputs": [
    {
     "data": {
<<<<<<< HEAD
      "image/png": "iVBORw0KGgoAAAANSUhEUgAAAYUAAAEKCAYAAAD9xUlFAAAABHNCSVQICAgIfAhkiAAAAAlwSFlz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\nSUFEROKUFEREJE5JQURE4pQUREQk7v8DxBgqjYrXWkoAAAAASUVORK5CYII=\n",
      "text/plain": [
       "<matplotlib.figure.Figure at 0x7f43c0fbcba8>"
      ]
     },
     "metadata": {},
=======
      "image/png": "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\n",
      "text/plain": [
       "<Figure size 432x288 with 1 Axes>"
      ]
     },
     "metadata": {
      "needs_background": "light"
     },
>>>>>>> 1c09093d0f128ba5a58bec7e812ecafd06bec6f9
     "output_type": "display_data"
    }
   ],
   "source": [
    "bigger_model_val_loss = bigger_model_hist.history['val_loss']\n",
    "\n",
    "plt.plot(epochs, original_val_loss, 'b+', label='Original model')\n",
    "plt.plot(epochs, bigger_model_val_loss, 'bo', label='Bigger model')\n",
    "plt.xlabel('Epochs')\n",
    "plt.ylabel('Validation loss')\n",
    "plt.legend()\n",
    "\n",
    "plt.show()"
   ]
  },
  {
   "cell_type": "markdown",
   "metadata": {},
   "source": [
    "\n",
    "The bigger network starts overfitting almost right away, after just one epoch, and overfits much more severely. Its validation loss is also \n",
    "more noisy.\n",
    "\n",
    "Meanwhile, here are the training losses for our two networks:"
   ]
  },
  {
   "cell_type": "code",
<<<<<<< HEAD
   "execution_count": 28,
=======
   "execution_count": 15,
>>>>>>> 1c09093d0f128ba5a58bec7e812ecafd06bec6f9
   "metadata": {},
   "outputs": [
    {
     "data": {
<<<<<<< HEAD
      "image/png": "iVBORw0KGgoAAAANSUhEUgAAAYUAAAEKCAYAAAD9xUlFAAAABHNCSVQICAgIfAhkiAAAAAlwSFlz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\nJQUREYkoKYiISERJQUREIv8DVI4KezW+r2IAAAAASUVORK5CYII=\n",
      "text/plain": [
       "<matplotlib.figure.Figure at 0x7f43befc12e8>"
      ]
     },
     "metadata": {},
=======
      "image/png": "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\n",
      "text/plain": [
       "<Figure size 432x288 with 1 Axes>"
      ]
     },
     "metadata": {
      "needs_background": "light"
     },
>>>>>>> 1c09093d0f128ba5a58bec7e812ecafd06bec6f9
     "output_type": "display_data"
    }
   ],
   "source": [
    "original_train_loss = original_hist.history['loss']\n",
    "bigger_model_train_loss = bigger_model_hist.history['loss']\n",
    "\n",
    "plt.plot(epochs, original_train_loss, 'b+', label='Original model')\n",
    "plt.plot(epochs, bigger_model_train_loss, 'bo', label='Bigger model')\n",
    "plt.xlabel('Epochs')\n",
    "plt.ylabel('Training loss')\n",
    "plt.legend()\n",
    "\n",
    "plt.show()"
   ]
  },
  {
   "cell_type": "markdown",
   "metadata": {},
   "source": [
    "As you can see, the bigger network gets its training loss near zero very quickly. The more capacity the network has, the quicker it will be \n",
    "able to model the training data (resulting in a low training loss), but the more susceptible it is to overfitting (resulting in a large \n",
    "difference between the training and validation loss)."
   ]
  },
  {
   "cell_type": "markdown",
   "metadata": {},
   "source": [
    "## Adding weight regularization\n",
    "\n",
    "\n",
    "You may be familiar with _Occam's Razor_ principle: given two explanations for something, the explanation most likely to be correct is the \n",
    "\"simplest\" one, the one that makes the least amount of assumptions. This also applies to the models learned by neural networks: given some \n",
    "training data and a network architecture, there are multiple sets of weights values (multiple _models_) that could explain the data, and \n",
    "simpler models are less likely to overfit than complex ones.\n",
    "\n",
    "A \"simple model\" in this context is a model where the distribution of parameter values has less entropy (or a model with fewer \n",
    "parameters altogether, as we saw in the section above). Thus a common way to mitigate overfitting is to put constraints on the complexity \n",
    "of a network by forcing its weights to only take small values, which makes the distribution of weight values more \"regular\". This is called \n",
    "\"weight regularization\", and it is done by adding to the loss function of the network a _cost_ associated with having large weights. This \n",
    "cost comes in two flavors:\n",
    "\n",
    "* L1 regularization, where the cost added is proportional to the _absolute value of the weights coefficients_ (i.e. to what is called the \n",
    "\"L1 norm\" of the weights).\n",
    "* L2 regularization, where the cost added is proportional to the _square of the value of the weights coefficients_ (i.e. to what is called \n",
    "the \"L2 norm\" of the weights). L2 regularization is also called _weight decay_ in the context of neural networks. Don't let the different \n",
    "name confuse you: weight decay is mathematically the exact same as L2 regularization.\n",
    "\n",
    "In Keras, weight regularization is added by passing _weight regularizer instances_ to layers as keyword arguments. Let's add L2 weight \n",
    "regularization to our movie review classification network:"
   ]
  },
  {
   "cell_type": "code",
<<<<<<< HEAD
   "execution_count": 17,
   "metadata": {
    "collapsed": true
   },
=======
   "execution_count": 16,
   "metadata": {},
>>>>>>> 1c09093d0f128ba5a58bec7e812ecafd06bec6f9
   "outputs": [],
   "source": [
    "from keras import regularizers\n",
    "\n",
    "l2_model = models.Sequential()\n",
    "l2_model.add(layers.Dense(16, kernel_regularizer=regularizers.l2(0.001),\n",
    "                          activation='relu', input_shape=(10000,)))\n",
    "l2_model.add(layers.Dense(16, kernel_regularizer=regularizers.l2(0.001),\n",
    "                          activation='relu'))\n",
    "l2_model.add(layers.Dense(1, activation='sigmoid'))"
   ]
  },
  {
   "cell_type": "code",
<<<<<<< HEAD
   "execution_count": 18,
   "metadata": {
    "collapsed": true
   },
=======
   "execution_count": 17,
   "metadata": {},
>>>>>>> 1c09093d0f128ba5a58bec7e812ecafd06bec6f9
   "outputs": [],
   "source": [
    "l2_model.compile(optimizer='rmsprop',\n",
    "                 loss='binary_crossentropy',\n",
    "                 metrics=['acc'])"
   ]
  },
  {
   "cell_type": "markdown",
   "metadata": {},
   "source": [
    "`l2(0.001)` means that every coefficient in the weight matrix of the layer will add `0.001 * weight_coefficient_value` to the total loss of \n",
    "the network. Note that because this penalty is _only added at training time_, the loss for this network will be much higher at training \n",
    "than at test time.\n",
    "\n",
    "Here's the impact of our L2 regularization penalty:"
   ]
  },
  {
   "cell_type": "code",
<<<<<<< HEAD
   "execution_count": 19,
=======
   "execution_count": 18,
>>>>>>> 1c09093d0f128ba5a58bec7e812ecafd06bec6f9
   "metadata": {},
   "outputs": [
    {
     "name": "stdout",
     "output_type": "stream",
     "text": [
      "Train on 25000 samples, validate on 25000 samples\n",
      "Epoch 1/20\n",
<<<<<<< HEAD
      "25000/25000 [==============================] - 3s - loss: 0.4880 - acc: 0.8218 - val_loss: 0.3820 - val_acc: 0.8798\n",
      "Epoch 2/20\n",
      "25000/25000 [==============================] - 2s - loss: 0.3162 - acc: 0.9068 - val_loss: 0.3353 - val_acc: 0.8896\n",
      "Epoch 3/20\n",
      "25000/25000 [==============================] - 2s - loss: 0.2742 - acc: 0.9185 - val_loss: 0.3306 - val_acc: 0.8898\n",
      "Epoch 4/20\n",
      "25000/25000 [==============================] - 2s - loss: 0.2489 - acc: 0.9288 - val_loss: 0.3363 - val_acc: 0.8866\n",
      "Epoch 5/20\n",
      "25000/25000 [==============================] - 2s - loss: 0.2420 - acc: 0.9318 - val_loss: 0.3492 - val_acc: 0.8820\n",
      "Epoch 6/20\n",
      "25000/25000 [==============================] - 2s - loss: 0.2322 - acc: 0.9359 - val_loss: 0.3567 - val_acc: 0.8788\n",
      "Epoch 7/20\n",
      "25000/25000 [==============================] - 2s - loss: 0.2254 - acc: 0.9385 - val_loss: 0.3632 - val_acc: 0.8787\n",
      "Epoch 8/20\n",
      "25000/25000 [==============================] - 2s - loss: 0.2219 - acc: 0.9380 - val_loss: 0.3630 - val_acc: 0.8794\n",
      "Epoch 9/20\n",
      "25000/25000 [==============================] - 2s - loss: 0.2162 - acc: 0.9430 - val_loss: 0.3704 - val_acc: 0.8763\n",
      "Epoch 10/20\n",
      "25000/25000 [==============================] - 2s - loss: 0.2144 - acc: 0.9428 - val_loss: 0.3876 - val_acc: 0.8727\n",
      "Epoch 11/20\n",
      "25000/25000 [==============================] - 2s - loss: 0.2091 - acc: 0.9439 - val_loss: 0.3883 - val_acc: 0.8724\n",
      "Epoch 12/20\n",
      "25000/25000 [==============================] - 2s - loss: 0.2061 - acc: 0.9455 - val_loss: 0.3870 - val_acc: 0.8740\n",
      "Epoch 13/20\n",
      "25000/25000 [==============================] - 2s - loss: 0.2069 - acc: 0.9445 - val_loss: 0.4073 - val_acc: 0.8714\n",
      "Epoch 14/20\n",
      "25000/25000 [==============================] - 2s - loss: 0.2028 - acc: 0.9475 - val_loss: 0.3976 - val_acc: 0.8714\n",
      "Epoch 15/20\n",
      "25000/25000 [==============================] - 2s - loss: 0.1998 - acc: 0.9472 - val_loss: 0.4362 - val_acc: 0.8670\n",
      "Epoch 16/20\n",
      "25000/25000 [==============================] - 2s - loss: 0.2019 - acc: 0.9462 - val_loss: 0.4088 - val_acc: 0.8711\n",
      "Epoch 17/20\n",
      "25000/25000 [==============================] - 2s - loss: 0.1953 - acc: 0.9495 - val_loss: 0.4185 - val_acc: 0.8698\n",
      "Epoch 18/20\n",
      "25000/25000 [==============================] - 2s - loss: 0.1945 - acc: 0.9508 - val_loss: 0.4371 - val_acc: 0.8674\n",
      "Epoch 19/20\n",
      "25000/25000 [==============================] - 2s - loss: 0.1934 - acc: 0.9486 - val_loss: 0.4136 - val_acc: 0.8699\n",
      "Epoch 20/20\n",
      "25000/25000 [==============================] - 2s - loss: 0.1924 - acc: 0.9504 - val_loss: 0.4200 - val_acc: 0.8704\n"
=======
      "25000/25000 [==============================] - 10s 418us/step - loss: 0.4881 - acc: 0.8150 - val_loss: 0.3892 - val_acc: 0.8657\n",
      "Epoch 2/20\n",
      "25000/25000 [==============================] - 9s 360us/step - loss: 0.3099 - acc: 0.9058 - val_loss: 0.3303 - val_acc: 0.8891\n",
      "Epoch 3/20\n",
      "25000/25000 [==============================] - 9s 361us/step - loss: 0.2651 - acc: 0.9205 - val_loss: 0.3298 - val_acc: 0.8871\n",
      "Epoch 4/20\n",
      "25000/25000 [==============================] - 9s 360us/step - loss: 0.2452 - acc: 0.9288 - val_loss: 0.3407 - val_acc: 0.8821\n",
      "Epoch 5/20\n",
      "25000/25000 [==============================] - 9s 363us/step - loss: 0.2316 - acc: 0.9349 - val_loss: 0.3819 - val_acc: 0.8679\n",
      "Epoch 6/20\n",
      "25000/25000 [==============================] - 9s 359us/step - loss: 0.2229 - acc: 0.9390 - val_loss: 0.3682 - val_acc: 0.8747\n",
      "Epoch 7/20\n",
      "25000/25000 [==============================] - 9s 362us/step - loss: 0.2164 - acc: 0.9413 - val_loss: 0.3749 - val_acc: 0.8735\n",
      "Epoch 8/20\n",
      "25000/25000 [==============================] - 9s 359us/step - loss: 0.2100 - acc: 0.9443 - val_loss: 0.3730 - val_acc: 0.8753\n",
      "Epoch 9/20\n",
      "25000/25000 [==============================] - 9s 361us/step - loss: 0.2040 - acc: 0.9466 - val_loss: 0.3755 - val_acc: 0.8749\n",
      "Epoch 10/20\n",
      "25000/25000 [==============================] - 9s 361us/step - loss: 0.2005 - acc: 0.9498 - val_loss: 0.3817 - val_acc: 0.8745\n",
      "Epoch 11/20\n",
      "25000/25000 [==============================] - 9s 362us/step - loss: 0.1949 - acc: 0.9488 - val_loss: 0.3837 - val_acc: 0.8755\n",
      "Epoch 12/20\n",
      "25000/25000 [==============================] - 9s 362us/step - loss: 0.1924 - acc: 0.9504 - val_loss: 0.3926 - val_acc: 0.8741\n",
      "Epoch 13/20\n",
      "25000/25000 [==============================] - 9s 361us/step - loss: 0.1881 - acc: 0.9530 - val_loss: 0.3966 - val_acc: 0.8735\n",
      "Epoch 14/20\n",
      "25000/25000 [==============================] - 9s 360us/step - loss: 0.1824 - acc: 0.9562 - val_loss: 0.4192 - val_acc: 0.8678\n",
      "Epoch 15/20\n",
      "25000/25000 [==============================] - 9s 361us/step - loss: 0.1829 - acc: 0.9559 - val_loss: 0.4448 - val_acc: 0.86022s - loss - ETA: 0s - loss: 0.1802 - acc: 0.9\n",
      "Epoch 16/20\n",
      "25000/25000 [==============================] - 9s 361us/step - loss: 0.1763 - acc: 0.9584 - val_loss: 0.4446 - val_acc: 0.8638\n",
      "Epoch 17/20\n",
      "25000/25000 [==============================] - 9s 343us/step - loss: 0.1717 - acc: 0.9603 - val_loss: 0.4199 - val_acc: 0.87081s - los\n",
      "Epoch 18/20\n",
      "25000/25000 [==============================] - 9s 365us/step - loss: 0.1726 - acc: 0.9595 - val_loss: 0.4344 - val_acc: 0.8681\n",
      "Epoch 19/20\n",
      "25000/25000 [==============================] - 9s 363us/step - loss: 0.1638 - acc: 0.9648 - val_loss: 0.4345 - val_acc: 0.8680\n",
      "Epoch 20/20\n",
      "25000/25000 [==============================] - 9s 363us/step - loss: 0.1635 - acc: 0.9634 - val_loss: 0.4574 - val_acc: 0.8608\n"
>>>>>>> 1c09093d0f128ba5a58bec7e812ecafd06bec6f9
     ]
    }
   ],
   "source": [
    "l2_model_hist = l2_model.fit(x_train, y_train,\n",
    "                             epochs=20,\n",
    "                             batch_size=512,\n",
    "                             validation_data=(x_test, y_test))"
   ]
  },
  {
   "cell_type": "code",
<<<<<<< HEAD
   "execution_count": 30,
=======
   "execution_count": 19,
>>>>>>> 1c09093d0f128ba5a58bec7e812ecafd06bec6f9
   "metadata": {},
   "outputs": [
    {
     "data": {
<<<<<<< HEAD
      "image/png": "iVBORw0KGgoAAAANSUhEUgAAAYUAAAEKCAYAAAD9xUlFAAAABHNCSVQICAgIfAhkiAAAAAlwSFlz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\n",
      "text/plain": [
       "<matplotlib.figure.Figure at 0x7f43bef16c50>"
      ]
     },
     "metadata": {},
=======
      "image/png": "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\n",
      "text/plain": [
       "<Figure size 432x288 with 1 Axes>"
      ]
     },
     "metadata": {
      "needs_background": "light"
     },
>>>>>>> 1c09093d0f128ba5a58bec7e812ecafd06bec6f9
     "output_type": "display_data"
    }
   ],
   "source": [
    "l2_model_val_loss = l2_model_hist.history['val_loss']\n",
    "\n",
    "plt.plot(epochs, original_val_loss, 'b+', label='Original model')\n",
    "plt.plot(epochs, l2_model_val_loss, 'bo', label='L2-regularized model')\n",
    "plt.xlabel('Epochs')\n",
    "plt.ylabel('Validation loss')\n",
    "plt.legend()\n",
    "\n",
    "plt.show()"
   ]
  },
  {
   "cell_type": "markdown",
   "metadata": {},
   "source": [
    "\n",
    "\n",
    "As you can see, the model with L2 regularization (dots) has become much more resistant to overfitting than the reference model (crosses), \n",
    "even though both models have the same number of parameters.\n",
    "\n",
    "As alternatives to L2 regularization, you could use one of the following Keras weight regularizers:"
   ]
  },
  {
   "cell_type": "code",
<<<<<<< HEAD
   "execution_count": null,
   "metadata": {
    "collapsed": true
   },
   "outputs": [],
=======
   "execution_count": 20,
   "metadata": {},
   "outputs": [
    {
     "data": {
      "text/plain": [
       "<keras.regularizers.L1L2 at 0x23b1f4ab978>"
      ]
     },
     "execution_count": 20,
     "metadata": {},
     "output_type": "execute_result"
    }
   ],
>>>>>>> 1c09093d0f128ba5a58bec7e812ecafd06bec6f9
   "source": [
    "from keras import regularizers\n",
    "\n",
    "# L1 regularization\n",
    "regularizers.l1(0.001)\n",
    "\n",
    "# L1 and L2 regularization at the same time\n",
    "regularizers.l1_l2(l1=0.001, l2=0.001)"
   ]
  },
  {
   "cell_type": "markdown",
   "metadata": {},
   "source": [
    "## Adding dropout\n",
    "\n",
    "\n",
    "Dropout is one of the most effective and most commonly used regularization techniques for neural networks, developed by Hinton and his \n",
    "students at the University of Toronto. Dropout, applied to a layer, consists of randomly \"dropping out\" (i.e. setting to zero) a number of \n",
    "output features of the layer during training. Let's say a given layer would normally have returned a vector `[0.2, 0.5, 1.3, 0.8, 1.1]` for a \n",
    "given input sample during training; after applying dropout, this vector will have a few zero entries distributed at random, e.g. `[0, 0.5, \n",
    "1.3, 0, 1.1]`. The \"dropout rate\" is the fraction of the features that are being zeroed-out; it is usually set between 0.2 and 0.5. At test \n",
    "time, no units are dropped out, and instead the layer's output values are scaled down by a factor equal to the dropout rate, so as to \n",
    "balance for the fact that more units are active than at training time.\n",
    "\n",
    "Consider a Numpy matrix containing the output of a layer, `layer_output`, of shape `(batch_size, features)`. At training time, we would be \n",
    "zero-ing out at random a fraction of the values in the matrix:"
   ]
  },
  {
   "cell_type": "code",
<<<<<<< HEAD
   "execution_count": null,
   "metadata": {
    "collapsed": true
   },
   "outputs": [],
=======
   "execution_count": 23,
   "metadata": {},
   "outputs": [
    {
     "ename": "NameError",
     "evalue": "name 'layer_output' is not defined",
     "output_type": "error",
     "traceback": [
      "\u001b[1;31m---------------------------------------------------------------------------\u001b[0m",
      "\u001b[1;31mNameError\u001b[0m                                 Traceback (most recent call last)",
      "\u001b[1;32m<ipython-input-23-f1f187ff4a2c>\u001b[0m in \u001b[0;36m<module>\u001b[1;34m\u001b[0m\n\u001b[0;32m      1\u001b[0m \u001b[1;31m# At training time: we drop out 50% of the units in the output\u001b[0m\u001b[1;33m\u001b[0m\u001b[1;33m\u001b[0m\u001b[1;33m\u001b[0m\u001b[0m\n\u001b[1;32m----> 2\u001b[1;33m \u001b[0mlayer_output\u001b[0m \u001b[1;33m*=\u001b[0m \u001b[0mnp\u001b[0m\u001b[1;33m.\u001b[0m\u001b[0mrandint\u001b[0m\u001b[1;33m(\u001b[0m\u001b[1;36m0\u001b[0m\u001b[1;33m,\u001b[0m \u001b[0mhigh\u001b[0m\u001b[1;33m=\u001b[0m\u001b[1;36m2\u001b[0m\u001b[1;33m,\u001b[0m \u001b[0msize\u001b[0m\u001b[1;33m=\u001b[0m\u001b[0mlayer_output\u001b[0m\u001b[1;33m.\u001b[0m\u001b[0mshape\u001b[0m\u001b[1;33m)\u001b[0m\u001b[1;33m\u001b[0m\u001b[1;33m\u001b[0m\u001b[0m\n\u001b[0m",
      "\u001b[1;31mNameError\u001b[0m: name 'layer_output' is not defined"
     ]
    }
   ],
>>>>>>> 1c09093d0f128ba5a58bec7e812ecafd06bec6f9
   "source": [
    "# At training time: we drop out 50% of the units in the output\n",
    "layer_output *= np.randint(0, high=2, size=layer_output.shape)"
   ]
  },
  {
   "cell_type": "markdown",
   "metadata": {},
   "source": [
    "\n",
    "At test time, we would be scaling the output down by the dropout rate. Here we scale by 0.5 (because we were previous dropping half the \n",
    "units):"
   ]
  },
  {
   "cell_type": "code",
<<<<<<< HEAD
   "execution_count": null,
   "metadata": {
    "collapsed": true
   },
   "outputs": [],
=======
   "execution_count": 22,
   "metadata": {},
   "outputs": [
    {
     "ename": "NameError",
     "evalue": "name 'layer_output' is not defined",
     "output_type": "error",
     "traceback": [
      "\u001b[1;31m---------------------------------------------------------------------------\u001b[0m",
      "\u001b[1;31mNameError\u001b[0m                                 Traceback (most recent call last)",
      "\u001b[1;32m<ipython-input-22-bfeb0a27d9eb>\u001b[0m in \u001b[0;36m<module>\u001b[1;34m\u001b[0m\n\u001b[0;32m      1\u001b[0m \u001b[1;31m# At test time:\u001b[0m\u001b[1;33m\u001b[0m\u001b[1;33m\u001b[0m\u001b[1;33m\u001b[0m\u001b[0m\n\u001b[1;32m----> 2\u001b[1;33m \u001b[0mlayer_output\u001b[0m \u001b[1;33m*=\u001b[0m \u001b[1;36m0.5\u001b[0m\u001b[1;33m\u001b[0m\u001b[1;33m\u001b[0m\u001b[0m\n\u001b[0m",
      "\u001b[1;31mNameError\u001b[0m: name 'layer_output' is not defined"
     ]
    }
   ],
>>>>>>> 1c09093d0f128ba5a58bec7e812ecafd06bec6f9
   "source": [
    "# At test time:\n",
    "layer_output *= 0.5"
   ]
  },
  {
   "cell_type": "markdown",
   "metadata": {},
   "source": [
    "\n",
    "Note that this process can be implemented by doing both operations at training time and leaving the output unchanged at test time, which is \n",
    "often the way it is implemented in practice:"
   ]
  },
  {
   "cell_type": "code",
   "execution_count": null,
   "metadata": {
    "collapsed": true
   },
   "outputs": [],
   "source": [
    "# At training time:\n",
    "layer_output *= np.randint(0, high=2, size=layer_output.shape)\n",
    "# Note that we are scaling *up* rather scaling *down* in this case\n",
    "layer_output /= 0.5"
   ]
  },
  {
   "cell_type": "markdown",
   "metadata": {},
   "source": [
    "\n",
    "This technique may seem strange and arbitrary. Why would this help reduce overfitting? Geoff Hinton has said that he was inspired, among \n",
    "other things, by a fraud prevention mechanism used by banks -- in his own words: _\"I went to my bank. The tellers kept changing and I asked \n",
    "one of them why. He said he didn’t know but they got moved around a lot. I figured it must be because it would require cooperation \n",
    "between employees to successfully defraud the bank. This made me realize that randomly removing a different subset of neurons on each \n",
    "example would prevent conspiracies and thus reduce overfitting\"_.\n",
    "\n",
    "The core idea is that introducing noise in the output values of a layer can break up happenstance patterns that are not significant (what \n",
    "Hinton refers to as \"conspiracies\"), which the network would start memorizing if no noise was present. \n",
    "\n",
    "In Keras you can introduce dropout in a network via the `Dropout` layer, which gets applied to the output of layer right before it, e.g.:"
   ]
  },
  {
   "cell_type": "code",
<<<<<<< HEAD
   "execution_count": null,
   "metadata": {
    "collapsed": true
   },
   "outputs": [],
=======
   "execution_count": 24,
   "metadata": {},
   "outputs": [
    {
     "ename": "NameError",
     "evalue": "name 'model' is not defined",
     "output_type": "error",
     "traceback": [
      "\u001b[1;31m---------------------------------------------------------------------------\u001b[0m",
      "\u001b[1;31mNameError\u001b[0m                                 Traceback (most recent call last)",
      "\u001b[1;32m<ipython-input-24-65ed89de200e>\u001b[0m in \u001b[0;36m<module>\u001b[1;34m\u001b[0m\n\u001b[1;32m----> 1\u001b[1;33m \u001b[0mmodel\u001b[0m\u001b[1;33m.\u001b[0m\u001b[0madd\u001b[0m\u001b[1;33m(\u001b[0m\u001b[0mlayers\u001b[0m\u001b[1;33m.\u001b[0m\u001b[0mDropout\u001b[0m\u001b[1;33m(\u001b[0m\u001b[1;36m0.5\u001b[0m\u001b[1;33m)\u001b[0m\u001b[1;33m)\u001b[0m\u001b[1;33m\u001b[0m\u001b[1;33m\u001b[0m\u001b[0m\n\u001b[0m",
      "\u001b[1;31mNameError\u001b[0m: name 'model' is not defined"
     ]
    }
   ],
>>>>>>> 1c09093d0f128ba5a58bec7e812ecafd06bec6f9
   "source": [
    "model.add(layers.Dropout(0.5))"
   ]
  },
  {
   "cell_type": "markdown",
   "metadata": {},
   "source": [
    "Let's add two `Dropout` layers in our IMDB network to see how well they do at reducing overfitting:"
   ]
  },
  {
   "cell_type": "code",
<<<<<<< HEAD
   "execution_count": 22,
   "metadata": {
    "collapsed": true
   },
   "outputs": [],
=======
   "execution_count": 25,
   "metadata": {},
   "outputs": [
    {
     "name": "stdout",
     "output_type": "stream",
     "text": [
      "WARNING:tensorflow:From C:\\Users\\gaborstefanics\\Anaconda3\\envs\\TensorFlow\\lib\\site-packages\\keras\\backend\\tensorflow_backend.py:3445: calling dropout (from tensorflow.python.ops.nn_ops) with keep_prob is deprecated and will be removed in a future version.\n",
      "Instructions for updating:\n",
      "Please use `rate` instead of `keep_prob`. Rate should be set to `rate = 1 - keep_prob`.\n"
     ]
    }
   ],
>>>>>>> 1c09093d0f128ba5a58bec7e812ecafd06bec6f9
   "source": [
    "dpt_model = models.Sequential()\n",
    "dpt_model.add(layers.Dense(16, activation='relu', input_shape=(10000,)))\n",
    "dpt_model.add(layers.Dropout(0.5))\n",
    "dpt_model.add(layers.Dense(16, activation='relu'))\n",
    "dpt_model.add(layers.Dropout(0.5))\n",
    "dpt_model.add(layers.Dense(1, activation='sigmoid'))\n",
    "\n",
    "dpt_model.compile(optimizer='rmsprop',\n",
    "                  loss='binary_crossentropy',\n",
    "                  metrics=['acc'])"
   ]
  },
  {
   "cell_type": "code",
<<<<<<< HEAD
   "execution_count": 23,
=======
   "execution_count": 26,
>>>>>>> 1c09093d0f128ba5a58bec7e812ecafd06bec6f9
   "metadata": {},
   "outputs": [
    {
     "name": "stdout",
     "output_type": "stream",
     "text": [
      "Train on 25000 samples, validate on 25000 samples\n",
      "Epoch 1/20\n",
<<<<<<< HEAD
      "25000/25000 [==============================] - 3s - loss: 0.6035 - acc: 0.6678 - val_loss: 0.4704 - val_acc: 0.8651\n",
      "Epoch 2/20\n",
      "25000/25000 [==============================] - 2s - loss: 0.4622 - acc: 0.8002 - val_loss: 0.3612 - val_acc: 0.8724\n",
      "Epoch 3/20\n",
      "25000/25000 [==============================] - 2s - loss: 0.3731 - acc: 0.8553 - val_loss: 0.2960 - val_acc: 0.8904\n",
      "Epoch 4/20\n",
      "25000/25000 [==============================] - 2s - loss: 0.3162 - acc: 0.8855 - val_loss: 0.2772 - val_acc: 0.8917\n",
      "Epoch 5/20\n",
      "25000/25000 [==============================] - 2s - loss: 0.2762 - acc: 0.9033 - val_loss: 0.2803 - val_acc: 0.8889\n",
      "Epoch 6/20\n",
      "25000/25000 [==============================] - 2s - loss: 0.2454 - acc: 0.9172 - val_loss: 0.2823 - val_acc: 0.8892\n",
      "Epoch 7/20\n",
      "25000/25000 [==============================] - 2s - loss: 0.2178 - acc: 0.9281 - val_loss: 0.2982 - val_acc: 0.8877\n",
      "Epoch 8/20\n",
      "25000/25000 [==============================] - 2s - loss: 0.1994 - acc: 0.9351 - val_loss: 0.3101 - val_acc: 0.8875\n",
      "Epoch 9/20\n",
      "25000/25000 [==============================] - 2s - loss: 0.1832 - acc: 0.9400 - val_loss: 0.3318 - val_acc: 0.8860\n",
      "Epoch 10/20\n",
      "25000/25000 [==============================] - 2s - loss: 0.1692 - acc: 0.9434 - val_loss: 0.3534 - val_acc: 0.8841\n",
      "Epoch 11/20\n",
      "25000/25000 [==============================] - 2s - loss: 0.1590 - acc: 0.9483 - val_loss: 0.3689 - val_acc: 0.8830\n",
      "Epoch 12/20\n",
      "25000/25000 [==============================] - 2s - loss: 0.1499 - acc: 0.9496 - val_loss: 0.4107 - val_acc: 0.8776\n",
      "Epoch 13/20\n",
      "25000/25000 [==============================] - 2s - loss: 0.1405 - acc: 0.9539 - val_loss: 0.4114 - val_acc: 0.8782\n",
      "Epoch 14/20\n",
      "25000/25000 [==============================] - 2s - loss: 0.1333 - acc: 0.9562 - val_loss: 0.4549 - val_acc: 0.8771\n",
      "Epoch 15/20\n",
      "25000/25000 [==============================] - 2s - loss: 0.1267 - acc: 0.9572 - val_loss: 0.4579 - val_acc: 0.8800\n",
      "Epoch 16/20\n",
      "25000/25000 [==============================] - 2s - loss: 0.1225 - acc: 0.9580 - val_loss: 0.4843 - val_acc: 0.8772\n",
      "Epoch 17/20\n",
      "25000/25000 [==============================] - 2s - loss: 0.1233 - acc: 0.9590 - val_loss: 0.4783 - val_acc: 0.8761\n",
      "Epoch 18/20\n",
      "25000/25000 [==============================] - 2s - loss: 0.1212 - acc: 0.9601 - val_loss: 0.5051 - val_acc: 0.8740\n",
      "Epoch 19/20\n",
      "25000/25000 [==============================] - 2s - loss: 0.1153 - acc: 0.9618 - val_loss: 0.5451 - val_acc: 0.8747\n",
      "Epoch 20/20\n",
      "25000/25000 [==============================] - 2s - loss: 0.1155 - acc: 0.9621 - val_loss: 0.5358 - val_acc: 0.8738\n"
=======
      "25000/25000 [==============================] - 11s 443us/step - loss: 0.5907 - acc: 0.6839 - val_loss: 0.4331 - val_acc: 0.8620\n",
      "Epoch 2/20\n",
      "25000/25000 [==============================] - 9s 361us/step - loss: 0.4361 - acc: 0.8180 - val_loss: 0.3470 - val_acc: 0.8710\n",
      "Epoch 3/20\n",
      "25000/25000 [==============================] - 9s 362us/step - loss: 0.3468 - acc: 0.8723 - val_loss: 0.2911 - val_acc: 0.8867\n",
      "Epoch 4/20\n",
      "25000/25000 [==============================] - 9s 362us/step - loss: 0.2880 - acc: 0.8987 - val_loss: 0.2766 - val_acc: 0.8872\n",
      "Epoch 5/20\n",
      "25000/25000 [==============================] - 9s 361us/step - loss: 0.2535 - acc: 0.9136 - val_loss: 0.2801 - val_acc: 0.8882\n",
      "Epoch 6/20\n",
      "25000/25000 [==============================] - 9s 362us/step - loss: 0.2220 - acc: 0.9268 - val_loss: 0.2887 - val_acc: 0.8874\n",
      "Epoch 7/20\n",
      "25000/25000 [==============================] - 9s 363us/step - loss: 0.1966 - acc: 0.9355 - val_loss: 0.3223 - val_acc: 0.8846\n",
      "Epoch 8/20\n",
      "25000/25000 [==============================] - 9s 365us/step - loss: 0.1769 - acc: 0.9433 - val_loss: 0.3332 - val_acc: 0.8840\n",
      "Epoch 9/20\n",
      "25000/25000 [==============================] - 9s 362us/step - loss: 0.1713 - acc: 0.9458 - val_loss: 0.3518 - val_acc: 0.8842\n",
      "Epoch 10/20\n",
      "25000/25000 [==============================] - 9s 362us/step - loss: 0.1507 - acc: 0.9505 - val_loss: 0.3758 - val_acc: 0.8834\n",
      "Epoch 11/20\n",
      "25000/25000 [==============================] - 9s 364us/step - loss: 0.1460 - acc: 0.9537 - val_loss: 0.3921 - val_acc: 0.8810\n",
      "Epoch 12/20\n",
      "25000/25000 [==============================] - 9s 364us/step - loss: 0.1357 - acc: 0.9584 - val_loss: 0.4370 - val_acc: 0.8754\n",
      "Epoch 13/20\n",
      "25000/25000 [==============================] - 9s 353us/step - loss: 0.1253 - acc: 0.9595 - val_loss: 0.4536 - val_acc: 0.8761\n",
      "Epoch 14/20\n",
      "25000/25000 [==============================] - 9s 365us/step - loss: 0.1203 - acc: 0.9610 - val_loss: 0.4536 - val_acc: 0.8760\n",
      "Epoch 15/20\n",
      "25000/25000 [==============================] - 9s 366us/step - loss: 0.1145 - acc: 0.9641 - val_loss: 0.4910 - val_acc: 0.8748\n",
      "Epoch 16/20\n",
      "25000/25000 [==============================] - 9s 365us/step - loss: 0.1135 - acc: 0.9638 - val_loss: 0.5269 - val_acc: 0.8747\n",
      "Epoch 17/20\n",
      "25000/25000 [==============================] - 9s 364us/step - loss: 0.1092 - acc: 0.9648 - val_loss: 0.5630 - val_acc: 0.8725\n",
      "Epoch 18/20\n",
      "25000/25000 [==============================] - 9s 362us/step - loss: 0.1091 - acc: 0.9664 - val_loss: 0.5385 - val_acc: 0.8751\n",
      "Epoch 19/20\n",
      "25000/25000 [==============================] - 9s 363us/step - loss: 0.0967 - acc: 0.9690 - val_loss: 0.5888 - val_acc: 0.8720\n",
      "Epoch 20/20\n",
      "25000/25000 [==============================] - 9s 362us/step - loss: 0.1016 - acc: 0.9691 - val_loss: 0.5935 - val_acc: 0.8723\n"
>>>>>>> 1c09093d0f128ba5a58bec7e812ecafd06bec6f9
     ]
    }
   ],
   "source": [
    "dpt_model_hist = dpt_model.fit(x_train, y_train,\n",
    "                               epochs=20,\n",
    "                               batch_size=512,\n",
    "                               validation_data=(x_test, y_test))"
   ]
  },
  {
   "cell_type": "markdown",
   "metadata": {},
   "source": [
    "Let's plot the results:"
   ]
  },
  {
   "cell_type": "code",
<<<<<<< HEAD
   "execution_count": 32,
=======
   "execution_count": 27,
>>>>>>> 1c09093d0f128ba5a58bec7e812ecafd06bec6f9
   "metadata": {},
   "outputs": [
    {
     "data": {
<<<<<<< HEAD
      "image/png": "iVBORw0KGgoAAAANSUhEUgAAAYUAAAEKCAYAAAD9xUlFAAAABHNCSVQICAgIfAhkiAAAAAlwSFlz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\n",
      "text/plain": [
       "<matplotlib.figure.Figure at 0x7f43baa91dd8>"
      ]
     },
     "metadata": {},
=======
      "image/png": "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\n",
      "text/plain": [
       "<Figure size 432x288 with 1 Axes>"
      ]
     },
     "metadata": {
      "needs_background": "light"
     },
>>>>>>> 1c09093d0f128ba5a58bec7e812ecafd06bec6f9
     "output_type": "display_data"
    }
   ],
   "source": [
    "dpt_model_val_loss = dpt_model_hist.history['val_loss']\n",
    "\n",
    "plt.plot(epochs, original_val_loss, 'b+', label='Original model')\n",
    "plt.plot(epochs, dpt_model_val_loss, 'bo', label='Dropout-regularized model')\n",
    "plt.xlabel('Epochs')\n",
    "plt.ylabel('Validation loss')\n",
    "plt.legend()\n",
    "\n",
    "plt.show()"
   ]
  },
  {
   "cell_type": "markdown",
   "metadata": {},
   "source": [
    "\n",
    "Again, a clear improvement over the reference network.\n",
    "\n",
    "To recap: here the most common ways to prevent overfitting in neural networks:\n",
    "\n",
    "* Getting more training data.\n",
    "* Reducing the capacity of the network.\n",
    "* Adding weight regularization.\n",
    "* Adding dropout."
   ]
  }
 ],
 "metadata": {
  "kernelspec": {
   "display_name": "Python 3",
   "language": "python",
   "name": "python3"
  },
  "language_info": {
   "codemirror_mode": {
    "name": "ipython",
    "version": 3
   },
   "file_extension": ".py",
   "mimetype": "text/x-python",
   "name": "python",
   "nbconvert_exporter": "python",
   "pygments_lexer": "ipython3",
   "version": "3.7.3"
  }
 },
 "nbformat": 4,
 "nbformat_minor": 2
}
