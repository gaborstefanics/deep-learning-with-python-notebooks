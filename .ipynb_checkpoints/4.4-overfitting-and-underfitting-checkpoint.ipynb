{
 "cells": [
  {
   "cell_type": "code",
   "execution_count": 1,
   "metadata": {},
   "outputs": [
    {
     "name": "stderr",
     "output_type": "stream",
     "text": [
      "Using TensorFlow backend.\n"
     ]
    },
    {
     "data": {
      "text/plain": [
       "'2.2.4'"
      ]
     },
     "execution_count": 1,
     "metadata": {},
     "output_type": "execute_result"
    }
   ],
   "source": [
    "import keras\n",
    "keras.__version__"
   ]
  },
  {
   "cell_type": "markdown",
   "metadata": {},
   "source": [
    "# Overfitting and underfitting\n",
    "\n",
    "This notebook contains the code samples found in Chapter 3, Section 6 of [Deep Learning with Python](https://www.manning.com/books/deep-learning-with-python?a_aid=keras&a_bid=76564dff). Note that the original text features far more content, in particular further explanations and figures: in this notebook, you will only find source code and related comments.\n",
    "\n",
    "----\n",
    "\n",
    "\n",
    "In all the examples we saw in the previous chapter -- movie review sentiment prediction, topic classification, and house price regression -- \n",
    "we could notice that the performance of our model on the held-out validation data would always peak after a few epochs and would then start \n",
    "degrading, i.e. our model would quickly start to _overfit_ to the training data. Overfitting happens in every single machine learning \n",
    "problem. Learning how to deal with overfitting is essential to mastering machine learning.\n",
    "\n",
    "The fundamental issue in machine learning is the tension between optimization and generalization. \"Optimization\" refers to the process of \n",
    "adjusting a model to get the best performance possible on the training data (the \"learning\" in \"machine learning\"), while \"generalization\" \n",
    "refers to how well the trained model would perform on data it has never seen before. The goal of the game is to get good generalization, of \n",
    "course, but you do not control generalization; you can only adjust the model based on its training data.\n",
    "\n",
    "At the beginning of training, optimization and generalization are correlated: the lower your loss on training data, the lower your loss on \n",
    "test data. While this is happening, your model is said to be _under-fit_: there is still progress to be made; the network hasn't yet \n",
    "modeled all relevant patterns in the training data. But after a certain number of iterations on the training data, generalization stops \n",
    "improving, validation metrics stall then start degrading: the model is then starting to over-fit, i.e. is it starting to learn patterns \n",
    "that are specific to the training data but that are misleading or irrelevant when it comes to new data.\n",
    "\n",
    "To prevent a model from learning misleading or irrelevant patterns found in the training data, _the best solution is of course to get \n",
    "more training data_. A model trained on more data will naturally generalize better. When that is no longer possible, the next best solution \n",
    "is to modulate the quantity of information that your model is allowed to store, or to add constraints on what information it is allowed to \n",
    "store. If a network can only afford to memorize a small number of patterns, the optimization process will force it to focus on the most \n",
    "prominent patterns, which have a better chance of generalizing well.\n",
    "\n",
    "The processing of fighting overfitting in this way is called _regularization_. Let's review some of the most common regularization \n",
    "techniques, and let's apply them in practice to improve our movie classification model from  the previous chapter."
   ]
  },
  {
   "cell_type": "markdown",
   "metadata": {},
   "source": [
    "Note: in this notebook we will be using the IMDB test set as our validation set. It doesn't matter in this context.\n",
    "\n",
    "Let's prepare the data using the code from Chapter 3, Section 5:"
   ]
  },
  {
   "cell_type": "code",
   "execution_count": 4,
   "metadata": {},
   "outputs": [],
   "source": [
    "from keras.datasets import imdb\n",
    "import numpy as np\n",
    "# save np.load\n",
    "np_load_old = np.load\n",
    "\n",
    "# modify the default parameters of np.load\n",
    "np.load = lambda *a,**k: np_load_old(*a, allow_pickle=True, **k)\n",
    "\n",
    "from keras.datasets import imdb\n",
    "(train_data, train_labels), (test_data, test_labels) = imdb.load_data(num_words=10000)\n",
    "\n",
    "# restore np.load for future normal usage\n",
    "np.load = np_load_old\n",
    "\n",
    "def vectorize_sequences(sequences, dimension=10000):\n",
    "    # Create an all-zero matrix of shape (len(sequences), dimension)\n",
    "    results = np.zeros((len(sequences), dimension))\n",
    "    for i, sequence in enumerate(sequences):\n",
    "        results[i, sequence] = 1.  # set specific indices of results[i] to 1s\n",
    "    return results\n",
    "\n",
    "# Our vectorized training data\n",
    "x_train = vectorize_sequences(train_data)\n",
    "# Our vectorized test data\n",
    "x_test = vectorize_sequences(test_data)\n",
    "# Our vectorized labels\n",
    "y_train = np.asarray(train_labels).astype('float32')\n",
    "y_test = np.asarray(test_labels).astype('float32')"
   ]
  },
  {
   "cell_type": "markdown",
   "metadata": {},
   "source": [
    "# Fighting overfitting\n",
    "\n",
    "## Reducing the network's size\n",
    "\n",
    "\n",
    "The simplest way to prevent overfitting is to reduce the size of the model, i.e. the number of learnable parameters in the model (which is \n",
    "determined by the number of layers and the number of units per layer). In deep learning, the number of learnable parameters in a model is \n",
    "often referred to as the model's \"capacity\". Intuitively, a model with more parameters will have more \"memorization capacity\" and therefore \n",
    "will be able to easily learn a perfect dictionary-like mapping between training samples and their targets, a mapping without any \n",
    "generalization power. For instance, a model with 500,000 binary parameters could easily be made to learn the class of every digits in the \n",
    "MNIST training set: we would only need 10 binary parameters for each of the 50,000 digits. Such a model would be useless for classifying \n",
    "new digit samples. Always keep this in mind: deep learning models tend to be good at fitting to the training data, but the real challenge \n",
    "is generalization, not fitting.\n",
    "\n",
    "On the other hand, if the network has limited memorization resources, it will not be able to learn this mapping as easily, and thus, in \n",
    "order to minimize its loss, it will have to resort to learning compressed representations that have predictive power regarding the targets \n",
    "-- precisely the type of representations that we are interested in. At the same time, keep in mind that you should be using models that have \n",
    "enough parameters that they won't be underfitting: your model shouldn't be starved for memorization resources. There is a compromise to be \n",
    "found between \"too much capacity\" and \"not enough capacity\".\n",
    "\n",
    "Unfortunately, there is no magical formula to determine what the right number of layers is, or what the right size for each layer is. You \n",
    "will have to evaluate an array of different architectures (on your validation set, not on your test set, of course) in order to find the \n",
    "right model size for your data. The general workflow to find an appropriate model size is to start with relatively few layers and \n",
    "parameters, and start increasing the size of the layers or adding new layers until you see diminishing returns with regard to the \n",
    "validation loss.\n",
    "\n",
    "Let's try this on our movie review classification network. Our original network was as such:"
   ]
  },
  {
   "cell_type": "code",
   "execution_count": 5,
   "metadata": {},
   "outputs": [
    {
     "name": "stdout",
     "output_type": "stream",
     "text": [
      "WARNING:tensorflow:From C:\\Users\\gaborstefanics\\Anaconda3\\envs\\TensorFlow\\lib\\site-packages\\keras\\backend\\tensorflow_backend.py:74: The name tf.get_default_graph is deprecated. Please use tf.compat.v1.get_default_graph instead.\n",
      "\n",
      "WARNING:tensorflow:From C:\\Users\\gaborstefanics\\Anaconda3\\envs\\TensorFlow\\lib\\site-packages\\keras\\backend\\tensorflow_backend.py:517: The name tf.placeholder is deprecated. Please use tf.compat.v1.placeholder instead.\n",
      "\n",
      "WARNING:tensorflow:From C:\\Users\\gaborstefanics\\Anaconda3\\envs\\TensorFlow\\lib\\site-packages\\keras\\backend\\tensorflow_backend.py:4138: The name tf.random_uniform is deprecated. Please use tf.random.uniform instead.\n",
      "\n",
      "WARNING:tensorflow:From C:\\Users\\gaborstefanics\\Anaconda3\\envs\\TensorFlow\\lib\\site-packages\\keras\\optimizers.py:790: The name tf.train.Optimizer is deprecated. Please use tf.compat.v1.train.Optimizer instead.\n",
      "\n",
      "WARNING:tensorflow:From C:\\Users\\gaborstefanics\\Anaconda3\\envs\\TensorFlow\\lib\\site-packages\\keras\\backend\\tensorflow_backend.py:3376: The name tf.log is deprecated. Please use tf.math.log instead.\n",
      "\n",
      "WARNING:tensorflow:From C:\\Users\\gaborstefanics\\Anaconda3\\envs\\TensorFlow\\lib\\site-packages\\tensorflow\\python\\ops\\nn_impl.py:180: add_dispatch_support.<locals>.wrapper (from tensorflow.python.ops.array_ops) is deprecated and will be removed in a future version.\n",
      "Instructions for updating:\n",
      "Use tf.where in 2.0, which has the same broadcast rule as np.where\n"
     ]
    }
   ],
   "source": [
    "from keras import models\n",
    "from keras import layers\n",
    "\n",
    "original_model = models.Sequential()\n",
    "original_model.add(layers.Dense(16, activation='relu', input_shape=(10000,)))\n",
    "original_model.add(layers.Dense(16, activation='relu'))\n",
    "original_model.add(layers.Dense(1, activation='sigmoid'))\n",
    "\n",
    "original_model.compile(optimizer='rmsprop',\n",
    "                       loss='binary_crossentropy',\n",
    "                       metrics=['acc'])"
   ]
  },
  {
   "cell_type": "markdown",
   "metadata": {},
   "source": [
    "Now let's try to replace it with this smaller network:"
   ]
  },
  {
   "cell_type": "code",
   "execution_count": 6,
   "metadata": {},
   "outputs": [],
   "source": [
    "smaller_model = models.Sequential()\n",
    "smaller_model.add(layers.Dense(4, activation='relu', input_shape=(10000,)))\n",
    "smaller_model.add(layers.Dense(4, activation='relu'))\n",
    "smaller_model.add(layers.Dense(1, activation='sigmoid'))\n",
    "\n",
    "smaller_model.compile(optimizer='rmsprop',\n",
    "                      loss='binary_crossentropy',\n",
    "                      metrics=['acc'])"
   ]
  },
  {
   "cell_type": "markdown",
   "metadata": {},
   "source": [
    "\n",
    "Here's a comparison of the validation losses of the original network and the smaller network. The dots are the validation loss values of \n",
    "the smaller network, and the crosses are the initial network (remember: a lower validation loss signals a better model)."
   ]
  },
  {
   "cell_type": "code",
   "execution_count": 7,
   "metadata": {},
   "outputs": [
    {
     "name": "stdout",
     "output_type": "stream",
     "text": [
      "WARNING:tensorflow:From C:\\Users\\gaborstefanics\\Anaconda3\\envs\\TensorFlow\\lib\\site-packages\\keras\\backend\\tensorflow_backend.py:986: The name tf.assign_add is deprecated. Please use tf.compat.v1.assign_add instead.\n",
      "\n",
      "Train on 25000 samples, validate on 25000 samples\n",
      "Epoch 1/20\n",
      "25000/25000 [==============================] - 12s 470us/step - loss: 0.4444 - acc: 0.8249 - val_loss: 0.3289 - val_acc: 0.8836\n",
      "Epoch 2/20\n",
      "25000/25000 [==============================] - 9s 361us/step - loss: 0.2574 - acc: 0.9082 - val_loss: 0.2864 - val_acc: 0.8884\n",
      "Epoch 3/20\n",
      "25000/25000 [==============================] - 9s 357us/step - loss: 0.1994 - acc: 0.9289 - val_loss: 0.2819 - val_acc: 0.8886\n",
      "Epoch 4/20\n",
      "25000/25000 [==============================] - 9s 357us/step - loss: 0.1671 - acc: 0.9412 - val_loss: 0.2939 - val_acc: 0.8851\n",
      "Epoch 5/20\n",
      "25000/25000 [==============================] - 9s 358us/step - loss: 0.1442 - acc: 0.9497 - val_loss: 0.3115 - val_acc: 0.8805\n",
      "Epoch 6/20\n",
      "25000/25000 [==============================] - 9s 360us/step - loss: 0.1269 - acc: 0.9553 - val_loss: 0.3484 - val_acc: 0.8720\n",
      "Epoch 7/20\n",
      "25000/25000 [==============================] - 9s 358us/step - loss: 0.1130 - acc: 0.9613 - val_loss: 0.3576 - val_acc: 0.8731\n",
      "Epoch 8/20\n",
      "25000/25000 [==============================] - 9s 359us/step - loss: 0.0993 - acc: 0.9666 - val_loss: 0.3948 - val_acc: 0.8661\n",
      "Epoch 9/20\n",
      "25000/25000 [==============================] - 9s 360us/step - loss: 0.0861 - acc: 0.9714 - val_loss: 0.4224 - val_acc: 0.8635\n",
      "Epoch 10/20\n",
      "25000/25000 [==============================] - 9s 359us/step - loss: 0.0779 - acc: 0.9751 - val_loss: 0.4948 - val_acc: 0.8534\n",
      "Epoch 11/20\n",
      "25000/25000 [==============================] - 9s 359us/step - loss: 0.0708 - acc: 0.9772 - val_loss: 0.4808 - val_acc: 0.8590\n",
      "Epoch 12/20\n",
      "25000/25000 [==============================] - 9s 361us/step - loss: 0.0589 - acc: 0.9817 - val_loss: 0.5181 - val_acc: 0.8566: 0.\n",
      "Epoch 13/20\n",
      "25000/25000 [==============================] - 9s 360us/step - loss: 0.0536 - acc: 0.9834 - val_loss: 0.5307 - val_acc: 0.8588\n",
      "Epoch 14/20\n",
      "25000/25000 [==============================] - 9s 360us/step - loss: 0.0445 - acc: 0.9867 - val_loss: 0.6066 - val_acc: 0.8500\n",
      "Epoch 15/20\n",
      "25000/25000 [==============================] - 9s 359us/step - loss: 0.0387 - acc: 0.9884 - val_loss: 0.6013 - val_acc: 0.8552\n",
      "Epoch 16/20\n",
      "25000/25000 [==============================] - 9s 357us/step - loss: 0.0331 - acc: 0.9903 - val_loss: 0.6367 - val_acc: 0.8544\n",
      "Epoch 17/20\n",
      "25000/25000 [==============================] - 9s 359us/step - loss: 0.0281 - acc: 0.9921 - val_loss: 0.6822 - val_acc: 0.8517\n",
      "Epoch 18/20\n",
      "25000/25000 [==============================] - 9s 361us/step - loss: 0.0223 - acc: 0.9943 - val_loss: 0.7355 - val_acc: 0.8479\n",
      "Epoch 19/20\n",
      "25000/25000 [==============================] - 9s 360us/step - loss: 0.0203 - acc: 0.9953 - val_loss: 0.7501 - val_acc: 0.8510\n",
      "Epoch 20/20\n",
      "25000/25000 [==============================] - 9s 358us/step - loss: 0.0169 - acc: 0.9959 - val_loss: 0.8887 - val_acc: 0.8378\n"
     ]
    }
   ],
   "source": [
    "original_hist = original_model.fit(x_train, y_train,\n",
    "                                   epochs=20,\n",
    "                                   batch_size=512,\n",
    "                                   validation_data=(x_test, y_test))"
   ]
  },
  {
   "cell_type": "code",
   "execution_count": 8,
   "metadata": {},
   "outputs": [
    {
     "name": "stdout",
     "output_type": "stream",
     "text": [
      "Train on 25000 samples, validate on 25000 samples\n",
      "Epoch 1/20\n",
      "25000/25000 [==============================] - 10s 397us/step - loss: 0.5808 - acc: 0.7016 - val_loss: 0.5310 - val_acc: 0.7562\n",
      "Epoch 2/20\n",
      "25000/25000 [==============================] - 9s 361us/step - loss: 0.4844 - acc: 0.8451 - val_loss: 0.4873 - val_acc: 0.8296\n",
      "Epoch 3/20\n",
      "25000/25000 [==============================] - 9s 358us/step - loss: 0.4389 - acc: 0.8918 - val_loss: 0.4670 - val_acc: 0.8486\n",
      "Epoch 4/20\n",
      "25000/25000 [==============================] - 9s 356us/step - loss: 0.4077 - acc: 0.9150 - val_loss: 0.4529 - val_acc: 0.8657\n",
      "Epoch 5/20\n",
      "25000/25000 [==============================] - 9s 356us/step - loss: 0.3831 - acc: 0.9309 - val_loss: 0.4508 - val_acc: 0.8624\n",
      "Epoch 6/20\n",
      "25000/25000 [==============================] - 9s 356us/step - loss: 0.3621 - acc: 0.9413 - val_loss: 0.4440 - val_acc: 0.8708\n",
      "Epoch 7/20\n",
      "25000/25000 [==============================] - 9s 357us/step - loss: 0.3424 - acc: 0.9515 - val_loss: 0.4578 - val_acc: 0.8626\n",
      "Epoch 8/20\n",
      "25000/25000 [==============================] - 9s 355us/step - loss: 0.3261 - acc: 0.9565 - val_loss: 0.4523 - val_acc: 0.8670\n",
      "Epoch 9/20\n",
      "25000/25000 [==============================] - 9s 356us/step - loss: 0.3097 - acc: 0.9622 - val_loss: 0.4652 - val_acc: 0.8642\n",
      "Epoch 10/20\n",
      "25000/25000 [==============================] - 9s 357us/step - loss: 0.2960 - acc: 0.9655 - val_loss: 0.4640 - val_acc: 0.8650\n",
      "Epoch 11/20\n",
      "25000/25000 [==============================] - 9s 362us/step - loss: 0.2812 - acc: 0.9694 - val_loss: 0.4778 - val_acc: 0.8621\n",
      "Epoch 12/20\n",
      "25000/25000 [==============================] - 9s 364us/step - loss: 0.2687 - acc: 0.9720 - val_loss: 0.4765 - val_acc: 0.8636\n",
      "Epoch 13/20\n",
      "25000/25000 [==============================] - 9s 357us/step - loss: 0.2566 - acc: 0.9747 - val_loss: 0.5244 - val_acc: 0.8566\n",
      "Epoch 14/20\n",
      "25000/25000 [==============================] - 9s 356us/step - loss: 0.2452 - acc: 0.9766 - val_loss: 0.5485 - val_acc: 0.8544\n",
      "Epoch 15/20\n",
      "25000/25000 [==============================] - 9s 356us/step - loss: 0.2338 - acc: 0.9787 - val_loss: 0.5364 - val_acc: 0.8585\n",
      "Epoch 16/20\n",
      "25000/25000 [==============================] - 9s 359us/step - loss: 0.2232 - acc: 0.9807 - val_loss: 0.5385 - val_acc: 0.8584\n",
      "Epoch 17/20\n",
      "25000/25000 [==============================] - 9s 359us/step - loss: 0.2146 - acc: 0.9808 - val_loss: 0.5717 - val_acc: 0.8562\n",
      "Epoch 18/20\n",
      "25000/25000 [==============================] - 9s 357us/step - loss: 0.2053 - acc: 0.9823 - val_loss: 0.5819 - val_acc: 0.8560\n",
      "Epoch 19/20\n",
      "25000/25000 [==============================] - 9s 358us/step - loss: 0.1960 - acc: 0.9834 - val_loss: 0.5577 - val_acc: 0.8542\n",
      "Epoch 20/20\n",
      "25000/25000 [==============================] - 9s 356us/step - loss: 0.1886 - acc: 0.9837 - val_loss: 0.5792 - val_acc: 0.8542\n"
     ]
    }
   ],
   "source": [
    "smaller_model_hist = smaller_model.fit(x_train, y_train,\n",
    "                                       epochs=20,\n",
    "                                       batch_size=512,\n",
    "                                       validation_data=(x_test, y_test))"
   ]
  },
  {
   "cell_type": "code",
   "execution_count": 9,
   "metadata": {},
   "outputs": [],
   "source": [
    "epochs = range(1, 21)\n",
    "original_val_loss = original_hist.history['val_loss']\n",
    "smaller_model_val_loss = smaller_model_hist.history['val_loss']"
   ]
  },
  {
   "cell_type": "code",
   "execution_count": 11,
   "metadata": {},
   "outputs": [
    {
     "data": {
      "image/png": "[encoded data removed]",
      "text/plain": [
       "<Figure size 432x288 with 1 Axes>"
      ]
     },
     "metadata": {
      "needs_background": "light"
     },
     "output_type": "display_data"
    }
   ],
   "source": [
    "import matplotlib.pyplot as plt\n",
    "\n",
    "# b+ is for \"blue cross\"\n",
    "plt.plot(epochs, original_val_loss, 'b+', label='Original model')\n",
    "# \"bo\" is for \"blue dot\"\n",
    "plt.plot(epochs, smaller_model_val_loss, 'bo', label='Smaller model')\n",
    "plt.xlabel('Epochs')\n",
    "plt.ylabel('Validation loss')\n",
    "plt.legend()\n",
    "\n",
    "plt.show()"
   ]
  },
  {
   "cell_type": "markdown",
   "metadata": {},
   "source": [
    "\n",
    "As you can see, the smaller network starts overfitting later than the reference one (after 6 epochs rather than 4) and its performance \n",
    "degrades much more slowly once it starts overfitting.\n",
    "\n",
    "Now, for kicks, let's add to this benchmark a network that has much more capacity, far more than the problem would warrant:"
   ]
  },
  {
   "cell_type": "code",
   "execution_count": 12,
   "metadata": {},
   "outputs": [],
   "source": [
    "bigger_model = models.Sequential()\n",
    "bigger_model.add(layers.Dense(512, activation='relu', input_shape=(10000,)))\n",
    "bigger_model.add(layers.Dense(512, activation='relu'))\n",
    "bigger_model.add(layers.Dense(1, activation='sigmoid'))\n",
    "\n",
    "bigger_model.compile(optimizer='rmsprop',\n",
    "                     loss='binary_crossentropy',\n",
    "                     metrics=['acc'])"
   ]
  },
  {
   "cell_type": "code",
   "execution_count": 13,
   "metadata": {},
   "outputs": [
    {
     "name": "stdout",
     "output_type": "stream",
     "text": [
      "Train on 25000 samples, validate on 25000 samples\n",
      "Epoch 1/20\n",
      "25000/25000 [==============================] - 19s 769us/step - loss: 0.4643 - acc: 0.7944 - val_loss: 0.2875 - val_acc: 0.8890\n",
      "Epoch 2/20\n",
      "25000/25000 [==============================] - 18s 728us/step - loss: 0.2242 - acc: 0.9124 - val_loss: 0.3259 - val_acc: 0.8626\n",
      "Epoch 3/20\n",
      "25000/25000 [==============================] - 17s 699us/step - loss: 0.1367 - acc: 0.9503 - val_loss: 0.3412 - val_acc: 0.8757\n",
      "Epoch 4/20\n",
      "25000/25000 [==============================] - 17s 678us/step - loss: 0.0742 - acc: 0.9801 - val_loss: 0.4119 - val_acc: 0.8802\n",
      "Epoch 5/20\n",
      "25000/25000 [==============================] - 18s 738us/step - loss: 0.0650 - acc: 0.9880 - val_loss: 0.4954 - val_acc: 0.8812\n",
      "Epoch 6/20\n",
      "25000/25000 [==============================] - 17s 673us/step - loss: 0.0820 - acc: 0.9878 - val_loss: 0.5344 - val_acc: 0.8700\n",
      "Epoch 7/20\n",
      "25000/25000 [==============================] - 17s 673us/step - loss: 0.0011 - acc: 1.0000 - val_loss: 0.6568 - val_acc: 0.8812\n",
      "Epoch 8/20\n",
      "25000/25000 [==============================] - 17s 683us/step - loss: 1.5698e-04 - acc: 1.0000 - val_loss: 0.7783 - val_acc: 0.8806\n",
      "Epoch 9/20\n",
      "25000/25000 [==============================] - 17s 683us/step - loss: 0.1052 - acc: 0.9910 - val_loss: 0.7995 - val_acc: 0.8749ETA: 2s - loss: 0.1311 - a\n",
      "Epoch 10/20\n",
      "25000/25000 [==============================] - 18s 723us/step - loss: 9.4603e-04 - acc: 0.9998 - val_loss: 0.7663 - val_acc: 0.8741\n",
      "Epoch 11/20\n",
      "25000/25000 [==============================] - 18s 714us/step - loss: 0.0730 - acc: 0.9919 - val_loss: 0.7406 - val_acc: 0.8755\n",
      "Epoch 12/20\n",
      "25000/25000 [==============================] - 18s 707us/step - loss: 7.1951e-05 - acc: 1.0000 - val_loss: 0.7973 - val_acc: 0.8756\n",
      "Epoch 13/20\n",
      "25000/25000 [==============================] - 17s 688us/step - loss: 1.5485e-05 - acc: 1.0000 - val_loss: 0.8779 - val_acc: 0.8776\n",
      "Epoch 14/20\n",
      "25000/25000 [==============================] - 18s 721us/step - loss: 2.3698e-06 - acc: 1.0000 - val_loss: 0.9488 - val_acc: 0.8781\n",
      "Epoch 15/20\n",
      "25000/25000 [==============================] - 18s 731us/step - loss: 4.8406e-07 - acc: 1.0000 - val_loss: 1.0180 - val_acc: 0.8785\n",
      "Epoch 16/20\n",
      "25000/25000 [==============================] - 18s 703us/step - loss: 1.7721e-07 - acc: 1.0000 - val_loss: 1.0692 - val_acc: 0.8770\n",
      "Epoch 17/20\n",
      "25000/25000 [==============================] - 18s 726us/step - loss: 1.2817e-07 - acc: 1.0000 - val_loss: 1.0917 - val_acc: 0.8772\n",
      "Epoch 18/20\n",
      "25000/25000 [==============================] - 18s 712us/step - loss: 1.1774e-07 - acc: 1.0000 - val_loss: 1.1034 - val_acc: 0.8783\n",
      "Epoch 19/20\n",
      "25000/25000 [==============================] - 18s 710us/step - loss: 1.1432e-07 - acc: 1.0000 - val_loss: 1.1119 - val_acc: 0.8784\n",
      "Epoch 20/20\n",
      "25000/25000 [==============================] - 17s 690us/step - loss: 1.1266e-07 - acc: 1.0000 - val_loss: 1.1177 - val_acc: 0.8783\n"
     ]
    }
   ],
   "source": [
    "bigger_model_hist = bigger_model.fit(x_train, y_train,\n",
    "                                     epochs=20,\n",
    "                                     batch_size=512,\n",
    "                                     validation_data=(x_test, y_test))"
   ]
  },
  {
   "cell_type": "markdown",
   "metadata": {},
   "source": [
    "Here's how the bigger network fares compared to the reference one. The dots are the validation loss values of the bigger network, and the \n",
    "crosses are the initial network."
   ]
  },
  {
   "cell_type": "code",
   "execution_count": 14,
   "metadata": {},
   "outputs": [
    {
     "data": {
      "image/png": "[encoded data removed]",
      "text/plain": [
       "<Figure size 432x288 with 1 Axes>"
      ]
     },
     "metadata": {
      "needs_background": "light"
     },
     "output_type": "display_data"
    }
   ],
   "source": [
    "bigger_model_val_loss = bigger_model_hist.history['val_loss']\n",
    "\n",
    "plt.plot(epochs, original_val_loss, 'b+', label='Original model')\n",
    "plt.plot(epochs, bigger_model_val_loss, 'bo', label='Bigger model')\n",
    "plt.xlabel('Epochs')\n",
    "plt.ylabel('Validation loss')\n",
    "plt.legend()\n",
    "\n",
    "plt.show()"
   ]
  },
  {
   "cell_type": "markdown",
   "metadata": {},
   "source": [
    "\n",
    "The bigger network starts overfitting almost right away, after just one epoch, and overfits much more severely. Its validation loss is also \n",
    "more noisy.\n",
    "\n",
    "Meanwhile, here are the training losses for our two networks:"
   ]
  },
  {
   "cell_type": "code",
   "execution_count": 15,
   "metadata": {},
   "outputs": [
    {
     "data": {
      "image/png": "[encoded data removed]",
      "text/plain": [
       "<Figure size 432x288 with 1 Axes>"
      ]
     },
     "metadata": {
      "needs_background": "light"
     },
     "output_type": "display_data"
    }
   ],
   "source": [
    "original_train_loss = original_hist.history['loss']\n",
    "bigger_model_train_loss = bigger_model_hist.history['loss']\n",
    "\n",
    "plt.plot(epochs, original_train_loss, 'b+', label='Original model')\n",
    "plt.plot(epochs, bigger_model_train_loss, 'bo', label='Bigger model')\n",
    "plt.xlabel('Epochs')\n",
    "plt.ylabel('Training loss')\n",
    "plt.legend()\n",
    "\n",
    "plt.show()"
   ]
  },
  {
   "cell_type": "markdown",
   "metadata": {},
   "source": [
    "As you can see, the bigger network gets its training loss near zero very quickly. The more capacity the network has, the quicker it will be \n",
    "able to model the training data (resulting in a low training loss), but the more susceptible it is to overfitting (resulting in a large \n",
    "difference between the training and validation loss)."
   ]
  },
  {
   "cell_type": "markdown",
   "metadata": {},
   "source": [
    "## Adding weight regularization\n",
    "\n",
    "\n",
    "You may be familiar with _Occam's Razor_ principle: given two explanations for something, the explanation most likely to be correct is the \n",
    "\"simplest\" one, the one that makes the least amount of assumptions. This also applies to the models learned by neural networks: given some \n",
    "training data and a network architecture, there are multiple sets of weights values (multiple _models_) that could explain the data, and \n",
    "simpler models are less likely to overfit than complex ones.\n",
    "\n",
    "A \"simple model\" in this context is a model where the distribution of parameter values has less entropy (or a model with fewer \n",
    "parameters altogether, as we saw in the section above). Thus a common way to mitigate overfitting is to put constraints on the complexity \n",
    "of a network by forcing its weights to only take small values, which makes the distribution of weight values more \"regular\". This is called \n",
    "\"weight regularization\", and it is done by adding to the loss function of the network a _cost_ associated with having large weights. This \n",
    "cost comes in two flavors:\n",
    "\n",
    "* L1 regularization, where the cost added is proportional to the _absolute value of the weights coefficients_ (i.e. to what is called the \n",
    "\"L1 norm\" of the weights).\n",
    "* L2 regularization, where the cost added is proportional to the _square of the value of the weights coefficients_ (i.e. to what is called \n",
    "the \"L2 norm\" of the weights). L2 regularization is also called _weight decay_ in the context of neural networks. Don't let the different \n",
    "name confuse you: weight decay is mathematically the exact same as L2 regularization.\n",
    "\n",
    "In Keras, weight regularization is added by passing _weight regularizer instances_ to layers as keyword arguments. Let's add L2 weight \n",
    "regularization to our movie review classification network:"
   ]
  },
  {
   "cell_type": "code",
   "execution_count": 16,
   "metadata": {},
   "outputs": [],
   "source": [
    "from keras import regularizers\n",
    "\n",
    "l2_model = models.Sequential()\n",
    "l2_model.add(layers.Dense(16, kernel_regularizer=regularizers.l2(0.001),\n",
    "                          activation='relu', input_shape=(10000,)))\n",
    "l2_model.add(layers.Dense(16, kernel_regularizer=regularizers.l2(0.001),\n",
    "                          activation='relu'))\n",
    "l2_model.add(layers.Dense(1, activation='sigmoid'))"
   ]
  },
  {
   "cell_type": "code",
   "execution_count": 17,
   "metadata": {},
   "outputs": [],
   "source": [
    "l2_model.compile(optimizer='rmsprop',\n",
    "                 loss='binary_crossentropy',\n",
    "                 metrics=['acc'])"
   ]
  },
  {
   "cell_type": "markdown",
   "metadata": {},
   "source": [
    "`l2(0.001)` means that every coefficient in the weight matrix of the layer will add `0.001 * weight_coefficient_value` to the total loss of \n",
    "the network. Note that because this penalty is _only added at training time_, the loss for this network will be much higher at training \n",
    "than at test time.\n",
    "\n",
    "Here's the impact of our L2 regularization penalty:"
   ]
  },
  {
   "cell_type": "code",
   "execution_count": 18,
   "metadata": {},
   "outputs": [
    {
     "name": "stdout",
     "output_type": "stream",
     "text": [
      "Train on 25000 samples, validate on 25000 samples\n",
      "Epoch 1/20\n",
      "25000/25000 [==============================] - 10s 418us/step - loss: 0.4881 - acc: 0.8150 - val_loss: 0.3892 - val_acc: 0.8657\n",
      "Epoch 2/20\n",
      "25000/25000 [==============================] - 9s 360us/step - loss: 0.3099 - acc: 0.9058 - val_loss: 0.3303 - val_acc: 0.8891\n",
      "Epoch 3/20\n",
      "25000/25000 [==============================] - 9s 361us/step - loss: 0.2651 - acc: 0.9205 - val_loss: 0.3298 - val_acc: 0.8871\n",
      "Epoch 4/20\n",
      "25000/25000 [==============================] - 9s 360us/step - loss: 0.2452 - acc: 0.9288 - val_loss: 0.3407 - val_acc: 0.8821\n",
      "Epoch 5/20\n",
      "25000/25000 [==============================] - 9s 363us/step - loss: 0.2316 - acc: 0.9349 - val_loss: 0.3819 - val_acc: 0.8679\n",
      "Epoch 6/20\n",
      "25000/25000 [==============================] - 9s 359us/step - loss: 0.2229 - acc: 0.9390 - val_loss: 0.3682 - val_acc: 0.8747\n",
      "Epoch 7/20\n",
      "25000/25000 [==============================] - 9s 362us/step - loss: 0.2164 - acc: 0.9413 - val_loss: 0.3749 - val_acc: 0.8735\n",
      "Epoch 8/20\n",
      "25000/25000 [==============================] - 9s 359us/step - loss: 0.2100 - acc: 0.9443 - val_loss: 0.3730 - val_acc: 0.8753\n",
      "Epoch 9/20\n",
      "25000/25000 [==============================] - 9s 361us/step - loss: 0.2040 - acc: 0.9466 - val_loss: 0.3755 - val_acc: 0.8749\n",
      "Epoch 10/20\n",
      "25000/25000 [==============================] - 9s 361us/step - loss: 0.2005 - acc: 0.9498 - val_loss: 0.3817 - val_acc: 0.8745\n",
      "Epoch 11/20\n",
      "25000/25000 [==============================] - 9s 362us/step - loss: 0.1949 - acc: 0.9488 - val_loss: 0.3837 - val_acc: 0.8755\n",
      "Epoch 12/20\n",
      "25000/25000 [==============================] - 9s 362us/step - loss: 0.1924 - acc: 0.9504 - val_loss: 0.3926 - val_acc: 0.8741\n",
      "Epoch 13/20\n",
      "25000/25000 [==============================] - 9s 361us/step - loss: 0.1881 - acc: 0.9530 - val_loss: 0.3966 - val_acc: 0.8735\n",
      "Epoch 14/20\n",
      "25000/25000 [==============================] - 9s 360us/step - loss: 0.1824 - acc: 0.9562 - val_loss: 0.4192 - val_acc: 0.8678\n",
      "Epoch 15/20\n",
      "25000/25000 [==============================] - 9s 361us/step - loss: 0.1829 - acc: 0.9559 - val_loss: 0.4448 - val_acc: 0.86022s - loss - ETA: 0s - loss: 0.1802 - acc: 0.9\n",
      "Epoch 16/20\n",
      "25000/25000 [==============================] - 9s 361us/step - loss: 0.1763 - acc: 0.9584 - val_loss: 0.4446 - val_acc: 0.8638\n",
      "Epoch 17/20\n",
      "25000/25000 [==============================] - 9s 343us/step - loss: 0.1717 - acc: 0.9603 - val_loss: 0.4199 - val_acc: 0.87081s - los\n",
      "Epoch 18/20\n",
      "25000/25000 [==============================] - 9s 365us/step - loss: 0.1726 - acc: 0.9595 - val_loss: 0.4344 - val_acc: 0.8681\n",
      "Epoch 19/20\n",
      "25000/25000 [==============================] - 9s 363us/step - loss: 0.1638 - acc: 0.9648 - val_loss: 0.4345 - val_acc: 0.8680\n",
      "Epoch 20/20\n",
      "25000/25000 [==============================] - 9s 363us/step - loss: 0.1635 - acc: 0.9634 - val_loss: 0.4574 - val_acc: 0.8608\n"
     ]
    }
   ],
   "source": [
    "l2_model_hist = l2_model.fit(x_train, y_train,\n",
    "                             epochs=20,\n",
    "                             batch_size=512,\n",
    "                             validation_data=(x_test, y_test))"
   ]
  },
  {
   "cell_type": "code",
   "execution_count": 19,
   "metadata": {},
   "outputs": [
    {
     "data": {
      "image/png": "[encoded data removed]",
      "text/plain": [
       "<Figure size 432x288 with 1 Axes>"
      ]
     },
     "metadata": {
      "needs_background": "light"
     },
     "output_type": "display_data"
    }
   ],
   "source": [
    "l2_model_val_loss = l2_model_hist.history['val_loss']\n",
    "\n",
    "plt.plot(epochs, original_val_loss, 'b+', label='Original model')\n",
    "plt.plot(epochs, l2_model_val_loss, 'bo', label='L2-regularized model')\n",
    "plt.xlabel('Epochs')\n",
    "plt.ylabel('Validation loss')\n",
    "plt.legend()\n",
    "\n",
    "plt.show()"
   ]
  },
  {
   "cell_type": "markdown",
   "metadata": {},
   "source": [
    "\n",
    "\n",
    "As you can see, the model with L2 regularization (dots) has become much more resistant to overfitting than the reference model (crosses), \n",
    "even though both models have the same number of parameters.\n",
    "\n",
    "As alternatives to L2 regularization, you could use one of the following Keras weight regularizers:"
   ]
  },
  {
   "cell_type": "code",
   "execution_count": 20,
   "metadata": {},
   "outputs": [
    {
     "data": {
      "text/plain": [
       "<keras.regularizers.L1L2 at 0x23b1f4ab978>"
      ]
     },
     "execution_count": 20,
     "metadata": {},
     "output_type": "execute_result"
    }
   ],
   "source": [
    "from keras import regularizers\n",
    "\n",
    "# L1 regularization\n",
    "regularizers.l1(0.001)\n",
    "\n",
    "# L1 and L2 regularization at the same time\n",
    "regularizers.l1_l2(l1=0.001, l2=0.001)"
   ]
  },
  {
   "cell_type": "markdown",
   "metadata": {},
   "source": [
    "## Adding dropout\n",
    "\n",
    "\n",
    "Dropout is one of the most effective and most commonly used regularization techniques for neural networks, developed by Hinton and his \n",
    "students at the University of Toronto. Dropout, applied to a layer, consists of randomly \"dropping out\" (i.e. setting to zero) a number of \n",
    "output features of the layer during training. Let's say a given layer would normally have returned a vector `[0.2, 0.5, 1.3, 0.8, 1.1]` for a \n",
    "given input sample during training; after applying dropout, this vector will have a few zero entries distributed at random, e.g. `[0, 0.5, \n",
    "1.3, 0, 1.1]`. The \"dropout rate\" is the fraction of the features that are being zeroed-out; it is usually set between 0.2 and 0.5. At test \n",
    "time, no units are dropped out, and instead the layer's output values are scaled down by a factor equal to the dropout rate, so as to \n",
    "balance for the fact that more units are active than at training time.\n",
    "\n",
    "Consider a Numpy matrix containing the output of a layer, `layer_output`, of shape `(batch_size, features)`. At training time, we would be \n",
    "zero-ing out at random a fraction of the values in the matrix:"
   ]
  },
  {
   "cell_type": "code",
   "execution_count": 23,
   "metadata": {},
   "outputs": [
    {
     "ename": "NameError",
     "evalue": "name 'layer_output' is not defined",
     "output_type": "error",
     "traceback": [
      "\u001b[1;31m---------------------------------------------------------------------------\u001b[0m",
      "\u001b[1;31mNameError\u001b[0m                                 Traceback (most recent call last)",
      "\u001b[1;32m<ipython-input-23-f1f187ff4a2c>\u001b[0m in \u001b[0;36m<module>\u001b[1;34m\u001b[0m\n\u001b[0;32m      1\u001b[0m \u001b[1;31m# At training time: we drop out 50% of the units in the output\u001b[0m\u001b[1;33m\u001b[0m\u001b[1;33m\u001b[0m\u001b[1;33m\u001b[0m\u001b[0m\n\u001b[1;32m----> 2\u001b[1;33m \u001b[0mlayer_output\u001b[0m \u001b[1;33m*=\u001b[0m \u001b[0mnp\u001b[0m\u001b[1;33m.\u001b[0m\u001b[0mrandint\u001b[0m\u001b[1;33m(\u001b[0m\u001b[1;36m0\u001b[0m\u001b[1;33m,\u001b[0m \u001b[0mhigh\u001b[0m\u001b[1;33m=\u001b[0m\u001b[1;36m2\u001b[0m\u001b[1;33m,\u001b[0m \u001b[0msize\u001b[0m\u001b[1;33m=\u001b[0m\u001b[0mlayer_output\u001b[0m\u001b[1;33m.\u001b[0m\u001b[0mshape\u001b[0m\u001b[1;33m)\u001b[0m\u001b[1;33m\u001b[0m\u001b[1;33m\u001b[0m\u001b[0m\n\u001b[0m",
      "\u001b[1;31mNameError\u001b[0m: name 'layer_output' is not defined"
     ]
    }
   ],
   "source": [
    "# At training time: we drop out 50% of the units in the output\n",
    "layer_output *= np.randint(0, high=2, size=layer_output.shape)"
   ]
  },
  {
   "cell_type": "markdown",
   "metadata": {},
   "source": [
    "\n",
    "At test time, we would be scaling the output down by the dropout rate. Here we scale by 0.5 (because we were previous dropping half the \n",
    "units):"
   ]
  },
  {
   "cell_type": "code",
   "execution_count": 22,
   "metadata": {},
   "outputs": [
    {
     "ename": "NameError",
     "evalue": "name 'layer_output' is not defined",
     "output_type": "error",
     "traceback": [
      "\u001b[1;31m---------------------------------------------------------------------------\u001b[0m",
      "\u001b[1;31mNameError\u001b[0m                                 Traceback (most recent call last)",
      "\u001b[1;32m<ipython-input-22-bfeb0a27d9eb>\u001b[0m in \u001b[0;36m<module>\u001b[1;34m\u001b[0m\n\u001b[0;32m      1\u001b[0m \u001b[1;31m# At test time:\u001b[0m\u001b[1;33m\u001b[0m\u001b[1;33m\u001b[0m\u001b[1;33m\u001b[0m\u001b[0m\n\u001b[1;32m----> 2\u001b[1;33m \u001b[0mlayer_output\u001b[0m \u001b[1;33m*=\u001b[0m \u001b[1;36m0.5\u001b[0m\u001b[1;33m\u001b[0m\u001b[1;33m\u001b[0m\u001b[0m\n\u001b[0m",
      "\u001b[1;31mNameError\u001b[0m: name 'layer_output' is not defined"
     ]
    }
   ],
   "source": [
    "# At test time:\n",
    "layer_output *= 0.5"
   ]
  },
  {
   "cell_type": "markdown",
   "metadata": {},
   "source": [
    "\n",
    "Note that this process can be implemented by doing both operations at training time and leaving the output unchanged at test time, which is \n",
    "often the way it is implemented in practice:"
   ]
  },
  {
   "cell_type": "code",
   "execution_count": null,
   "metadata": {
    "collapsed": true
   },
   "outputs": [],
   "source": [
    "# At training time:\n",
    "layer_output *= np.randint(0, high=2, size=layer_output.shape)\n",
    "# Note that we are scaling *up* rather scaling *down* in this case\n",
    "layer_output /= 0.5"
   ]
  },
  {
   "cell_type": "markdown",
   "metadata": {},
   "source": [
    "\n",
    "This technique may seem strange and arbitrary. Why would this help reduce overfitting? Geoff Hinton has said that he was inspired, among \n",
    "other things, by a fraud prevention mechanism used by banks -- in his own words: _\"I went to my bank. The tellers kept changing and I asked \n",
    "one of them why. He said he didn’t know but they got moved around a lot. I figured it must be because it would require cooperation \n",
    "between employees to successfully defraud the bank. This made me realize that randomly removing a different subset of neurons on each \n",
    "example would prevent conspiracies and thus reduce overfitting\"_.\n",
    "\n",
    "The core idea is that introducing noise in the output values of a layer can break up happenstance patterns that are not significant (what \n",
    "Hinton refers to as \"conspiracies\"), which the network would start memorizing if no noise was present. \n",
    "\n",
    "In Keras you can introduce dropout in a network via the `Dropout` layer, which gets applied to the output of layer right before it, e.g.:"
   ]
  },
  {
   "cell_type": "code",
   "execution_count": 24,
   "metadata": {},
   "outputs": [
    {
     "ename": "NameError",
     "evalue": "name 'model' is not defined",
     "output_type": "error",
     "traceback": [
      "\u001b[1;31m---------------------------------------------------------------------------\u001b[0m",
      "\u001b[1;31mNameError\u001b[0m                                 Traceback (most recent call last)",
      "\u001b[1;32m<ipython-input-24-65ed89de200e>\u001b[0m in \u001b[0;36m<module>\u001b[1;34m\u001b[0m\n\u001b[1;32m----> 1\u001b[1;33m \u001b[0mmodel\u001b[0m\u001b[1;33m.\u001b[0m\u001b[0madd\u001b[0m\u001b[1;33m(\u001b[0m\u001b[0mlayers\u001b[0m\u001b[1;33m.\u001b[0m\u001b[0mDropout\u001b[0m\u001b[1;33m(\u001b[0m\u001b[1;36m0.5\u001b[0m\u001b[1;33m)\u001b[0m\u001b[1;33m)\u001b[0m\u001b[1;33m\u001b[0m\u001b[1;33m\u001b[0m\u001b[0m\n\u001b[0m",
      "\u001b[1;31mNameError\u001b[0m: name 'model' is not defined"
     ]
    }
   ],
   "source": [
    "model.add(layers.Dropout(0.5))"
   ]
  },
  {
   "cell_type": "markdown",
   "metadata": {},
   "source": [
    "Let's add two `Dropout` layers in our IMDB network to see how well they do at reducing overfitting:"
   ]
  },
  {
   "cell_type": "code",
   "execution_count": 25,
   "metadata": {},
   "outputs": [
    {
     "name": "stdout",
     "output_type": "stream",
     "text": [
      "WARNING:tensorflow:From C:\\Users\\gaborstefanics\\Anaconda3\\envs\\TensorFlow\\lib\\site-packages\\keras\\backend\\tensorflow_backend.py:3445: calling dropout (from tensorflow.python.ops.nn_ops) with keep_prob is deprecated and will be removed in a future version.\n",
      "Instructions for updating:\n",
      "Please use `rate` instead of `keep_prob`. Rate should be set to `rate = 1 - keep_prob`.\n"
     ]
    }
   ],
   "source": [
    "dpt_model = models.Sequential()\n",
    "dpt_model.add(layers.Dense(16, activation='relu', input_shape=(10000,)))\n",
    "dpt_model.add(layers.Dropout(0.5))\n",
    "dpt_model.add(layers.Dense(16, activation='relu'))\n",
    "dpt_model.add(layers.Dropout(0.5))\n",
    "dpt_model.add(layers.Dense(1, activation='sigmoid'))\n",
    "\n",
    "dpt_model.compile(optimizer='rmsprop',\n",
    "                  loss='binary_crossentropy',\n",
    "                  metrics=['acc'])"
   ]
  },
  {
   "cell_type": "code",
   "execution_count": 26,
   "metadata": {},
   "outputs": [
    {
     "name": "stdout",
     "output_type": "stream",
     "text": [
      "Train on 25000 samples, validate on 25000 samples\n",
      "Epoch 1/20\n",
      "25000/25000 [==============================] - 11s 443us/step - loss: 0.5907 - acc: 0.6839 - val_loss: 0.4331 - val_acc: 0.8620\n",
      "Epoch 2/20\n",
      "25000/25000 [==============================] - 9s 361us/step - loss: 0.4361 - acc: 0.8180 - val_loss: 0.3470 - val_acc: 0.8710\n",
      "Epoch 3/20\n",
      "25000/25000 [==============================] - 9s 362us/step - loss: 0.3468 - acc: 0.8723 - val_loss: 0.2911 - val_acc: 0.8867\n",
      "Epoch 4/20\n",
      "25000/25000 [==============================] - 9s 362us/step - loss: 0.2880 - acc: 0.8987 - val_loss: 0.2766 - val_acc: 0.8872\n",
      "Epoch 5/20\n",
      "25000/25000 [==============================] - 9s 361us/step - loss: 0.2535 - acc: 0.9136 - val_loss: 0.2801 - val_acc: 0.8882\n",
      "Epoch 6/20\n",
      "25000/25000 [==============================] - 9s 362us/step - loss: 0.2220 - acc: 0.9268 - val_loss: 0.2887 - val_acc: 0.8874\n",
      "Epoch 7/20\n",
      "25000/25000 [==============================] - 9s 363us/step - loss: 0.1966 - acc: 0.9355 - val_loss: 0.3223 - val_acc: 0.8846\n",
      "Epoch 8/20\n",
      "25000/25000 [==============================] - 9s 365us/step - loss: 0.1769 - acc: 0.9433 - val_loss: 0.3332 - val_acc: 0.8840\n",
      "Epoch 9/20\n",
      "25000/25000 [==============================] - 9s 362us/step - loss: 0.1713 - acc: 0.9458 - val_loss: 0.3518 - val_acc: 0.8842\n",
      "Epoch 10/20\n",
      "25000/25000 [==============================] - 9s 362us/step - loss: 0.1507 - acc: 0.9505 - val_loss: 0.3758 - val_acc: 0.8834\n",
      "Epoch 11/20\n",
      "25000/25000 [==============================] - 9s 364us/step - loss: 0.1460 - acc: 0.9537 - val_loss: 0.3921 - val_acc: 0.8810\n",
      "Epoch 12/20\n",
      "25000/25000 [==============================] - 9s 364us/step - loss: 0.1357 - acc: 0.9584 - val_loss: 0.4370 - val_acc: 0.8754\n",
      "Epoch 13/20\n",
      "25000/25000 [==============================] - 9s 353us/step - loss: 0.1253 - acc: 0.9595 - val_loss: 0.4536 - val_acc: 0.8761\n",
      "Epoch 14/20\n",
      "25000/25000 [==============================] - 9s 365us/step - loss: 0.1203 - acc: 0.9610 - val_loss: 0.4536 - val_acc: 0.8760\n",
      "Epoch 15/20\n",
      "25000/25000 [==============================] - 9s 366us/step - loss: 0.1145 - acc: 0.9641 - val_loss: 0.4910 - val_acc: 0.8748\n",
      "Epoch 16/20\n",
      "25000/25000 [==============================] - 9s 365us/step - loss: 0.1135 - acc: 0.9638 - val_loss: 0.5269 - val_acc: 0.8747\n",
      "Epoch 17/20\n",
      "25000/25000 [==============================] - 9s 364us/step - loss: 0.1092 - acc: 0.9648 - val_loss: 0.5630 - val_acc: 0.8725\n",
      "Epoch 18/20\n",
      "25000/25000 [==============================] - 9s 362us/step - loss: 0.1091 - acc: 0.9664 - val_loss: 0.5385 - val_acc: 0.8751\n",
      "Epoch 19/20\n",
      "25000/25000 [==============================] - 9s 363us/step - loss: 0.0967 - acc: 0.9690 - val_loss: 0.5888 - val_acc: 0.8720\n",
      "Epoch 20/20\n",
      "25000/25000 [==============================] - 9s 362us/step - loss: 0.1016 - acc: 0.9691 - val_loss: 0.5935 - val_acc: 0.8723\n"
     ]
    }
   ],
   "source": [
    "dpt_model_hist = dpt_model.fit(x_train, y_train,\n",
    "                               epochs=20,\n",
    "                               batch_size=512,\n",
    "                               validation_data=(x_test, y_test))"
   ]
  },
  {
   "cell_type": "markdown",
   "metadata": {},
   "source": [
    "Let's plot the results:"
   ]
  },
  {
   "cell_type": "code",
   "execution_count": 27,
   "metadata": {},
   "outputs": [
    {
     "data": {
      "image/png": "[encoded data removed]",
      "text/plain": [
       "<Figure size 432x288 with 1 Axes>"
      ]
     },
     "metadata": {
      "needs_background": "light"
     },
     "output_type": "display_data"
    }
   ],
   "source": [
    "dpt_model_val_loss = dpt_model_hist.history['val_loss']\n",
    "\n",
    "plt.plot(epochs, original_val_loss, 'b+', label='Original model')\n",
    "plt.plot(epochs, dpt_model_val_loss, 'bo', label='Dropout-regularized model')\n",
    "plt.xlabel('Epochs')\n",
    "plt.ylabel('Validation loss')\n",
    "plt.legend()\n",
    "\n",
    "plt.show()"
   ]
  },
  {
   "cell_type": "markdown",
   "metadata": {},
   "source": [
    "\n",
    "Again, a clear improvement over the reference network.\n",
    "\n",
    "To recap: here the most common ways to prevent overfitting in neural networks:\n",
    "\n",
    "* Getting more training data.\n",
    "* Reducing the capacity of the network.\n",
    "* Adding weight regularization.\n",
    "* Adding dropout."
   ]
  }
 ],
 "metadata": {
  "kernelspec": {
   "display_name": "Python 3",
   "language": "python",
   "name": "python3"
  },
  "language_info": {
   "codemirror_mode": {
    "name": "ipython",
    "version": 3
   },
   "file_extension": ".py",
   "mimetype": "text/x-python",
   "name": "python",
   "nbconvert_exporter": "python",
   "pygments_lexer": "ipython3",
   "version": "3.7.3"
  }
 },
 "nbformat": 4,
 "nbformat_minor": 2
}
