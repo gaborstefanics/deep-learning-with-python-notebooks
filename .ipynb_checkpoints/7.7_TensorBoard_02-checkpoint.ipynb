{
 "cells": [
  {
   "cell_type": "markdown",
   "metadata": {},
   "source": [
    "# Get started with TensorBoard\n",
    "\n",
    "https://www.tensorflow.org/tensorboard/get_started"
   ]
  },
  {
   "cell_type": "code",
   "execution_count": 1,
   "metadata": {},
   "outputs": [
    {
     "name": "stderr",
     "output_type": "stream",
     "text": [
      "Using TensorFlow backend.\n"
     ]
    },
    {
     "data": {
      "text/plain": [
       "'2.2.4'"
      ]
     },
     "execution_count": 1,
     "metadata": {},
     "output_type": "execute_result"
    }
   ],
   "source": [
    "import keras\n",
    "keras.__version__"
   ]
  },
  {
   "cell_type": "code",
   "execution_count": 2,
   "metadata": {},
   "outputs": [],
   "source": [
    "import tensorflow as tf\n",
    "import datetime"
   ]
  },
  {
   "cell_type": "code",
   "execution_count": 3,
   "metadata": {},
   "outputs": [],
   "source": [
    "mnist = tf.keras.datasets.mnist\n",
    "\n",
    "(x_train, y_train),(x_test, y_test) = mnist.load_data()\n",
    "x_train, x_test = x_train / 255.0, x_test / 255.0\n",
    "\n",
    "def create_model():\n",
    "  return tf.keras.models.Sequential([\n",
    "    tf.keras.layers.Flatten(input_shape=(28, 28)),\n",
    "    tf.keras.layers.Dense(512, activation='relu'),\n",
    "    tf.keras.layers.Dropout(0.2),\n",
    "    tf.keras.layers.Dense(10, activation='softmax')\n",
    "  ])\n"
   ]
  },
  {
   "cell_type": "code",
   "execution_count": 33,
   "metadata": {},
   "outputs": [],
   "source": [
    "import os\n",
    "import keras.backend as K\n",
    "K.clear_session()"
   ]
  },
  {
   "cell_type": "code",
   "execution_count": 36,
   "metadata": {},
   "outputs": [
    {
     "name": "stdout",
     "output_type": "stream",
     "text": [
      "Train on 60000 samples, validate on 10000 samples\n",
      "Epoch 1/2\n",
      "60000/60000 [==============================] - 29s 487us/sample - loss: 0.2191 - acc: 0.9351 - val_loss: 0.1138 - val_acc: 0.9650\n",
      "Epoch 2/2\n",
      "60000/60000 [==============================] - 30s 500us/sample - loss: 0.0952 - acc: 0.9708 - val_loss: 0.0761 - val_acc: 0.9757\n"
     ]
    },
    {
     "data": {
      "text/plain": [
       "<tensorflow.python.keras.callbacks.History at 0x25c5bba0240>"
      ]
     },
     "execution_count": 36,
     "metadata": {},
     "output_type": "execute_result"
    }
   ],
   "source": [
    "K.clear_session()\n",
    "\n",
    "# model.compile(optimizer='rmsprop',\n",
    "#                 loss='binary_crossentropy',\n",
    "#               metrics=['acc'])\n",
    "\n",
    "model = create_model()\n",
    "model.compile(optimizer='adam',# 'adam',\n",
    "              loss='sparse_categorical_crossentropy',\n",
    "              metrics=['accuracy'])\n",
    "\n",
    "log_dir = 'my_log_dir\\\\fit\\\\' + datetime.datetime.now().strftime(\"%Y%m%d-%H%M%S\") # %Y%m%d-%H%M%S\n",
    "# log_dir = \"/my_log_dir/fit\"\n",
    "# log_dir = pathPart1 + pathPart2\n",
    "\n",
    "pathPart1 = os.getcwd()\n",
    "# # # pathPart2 = \"/my_log_dir/fit/\" + datetime.datetime.now().strftime(\"%Y%m%d\")\n",
    "\n",
    "log_path = pathPart1 + log_dir # + \"/plugins/profile/\" + datetime.datetime.now().strftime('%Y-%m-%d_%H-%M')\n",
    "# # print(log_path,'\\n')\n",
    "# # directory = os.path.dirname(log_path)\n",
    "# # print(directory)\n",
    "\n",
    "# if not os.path.exists(log_path):\n",
    "#         os.makedirs(log_path)\n",
    "\n",
    "tensorboard_callback = tf.keras.callbacks.TensorBoard(log_dir=log_dir, \n",
    "                                                      histogram_freq=1)\n",
    "\n",
    "model.fit(x=x_train, \n",
    "          y=y_train, \n",
    "          epochs=2, \n",
    "          validation_data=(x_test, y_test), \n",
    "          callbacks=[tensorboard_callback])"
   ]
  },
  {
   "cell_type": "code",
   "execution_count": null,
   "metadata": {},
   "outputs": [],
   "source": [
    "# log_dir = \"/my_log_dir/fit/\" + datetime.datetime.now().strftime(\"%Y%m%d-%H%M%S\") # %Y%m%d-%H%M%S\n",
    "# print(log_dir,'\\n')\n",
    "# # log_dir = pathPart1 + pathPart2\n",
    "\n",
    "# pathPart1 = os.getcwd()\n",
    "# print(pathPart1,'\\n')\n",
    "\n",
    "# # pathPart2 = \"/my_log_dir/fit/\" + datetime.datetime.now().strftime(\"%Y%m%d\")\n",
    "\n",
    "# log_path = pathPart1 + log_dir + \"\\plugins\\profile/\"\n",
    "# directory = os.path.dirname(log_path)\n",
    "# print(directory)\n",
    "\n",
    "# if not os.path.exists(directory):\n",
    "#         os.makedirs(directory)\n"
   ]
  },
  {
   "cell_type": "code",
   "execution_count": null,
   "metadata": {},
   "outputs": [],
   "source": [
    "# datetime.datetime.now().strftime('%Y-%m-%d_%H-%M')"
   ]
  },
  {
   "cell_type": "code",
   "execution_count": 16,
   "metadata": {},
   "outputs": [
    {
     "name": "stdout",
     "output_type": "stream",
     "text": [
      "\\my_log_dir\\fit\\20200404\n"
     ]
    }
   ],
   "source": [
    "print(log_dir)"
   ]
  },
  {
   "cell_type": "code",
   "execution_count": null,
   "metadata": {},
   "outputs": [],
   "source": []
  }
 ],
 "metadata": {
  "kernelspec": {
   "display_name": "Python 3",
   "language": "python",
   "name": "python3"
  },
  "language_info": {
   "codemirror_mode": {
    "name": "ipython",
    "version": 3
   },
   "file_extension": ".py",
   "mimetype": "text/x-python",
   "name": "python",
   "nbconvert_exporter": "python",
   "pygments_lexer": "ipython3",
   "version": "3.7.3"
  }
 },
 "nbformat": 4,
 "nbformat_minor": 2
}
